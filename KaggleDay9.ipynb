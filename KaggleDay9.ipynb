{
  "nbformat": 4,
  "nbformat_minor": 0,
  "metadata": {
    "colab": {
      "name": "KaggleDay9.ipynb",
      "provenance": []
    },
    "kernelspec": {
      "name": "python3",
      "display_name": "Python 3"
    },
    "language_info": {
      "name": "python"
    }
  },
  "cells": [
    {
      "cell_type": "code",
      "metadata": {
        "id": "xB1d4Ova7Jly"
      },
      "source": [
        "import numpy as np\n",
        "import pandas as pd\n",
        "import matplotlib.pyplot as plt\n",
        "import seaborn as sns\n",
        "import tensorflow as tf\n",
        "import keras as ke\n",
        "from sklearn.model_selection import train_test_split\n",
        "from keras.utils.np_utils import to_categorical\n",
        "\n",
        "#importing NMIST data\n",
        "from keras.datasets import mnist\n",
        "(X_train, Y_train), (X_test, Y_test) = mnist.load_data()\n",
        "#splitting into train/validation data\n",
        "X_train, X_val, Y_train, Y_val = train_test_split(X_train, Y_train, test_size = 0.1, random_state=2)"
      ],
      "execution_count": 45,
      "outputs": []
    },
    {
      "cell_type": "code",
      "metadata": {
        "colab": {
          "base_uri": "https://localhost:8080/",
          "height": 498
        },
        "id": "YYmVG7lx05Hu",
        "outputId": "bdca2a25-2a1c-4944-a80f-5e3e5d76cbec"
      },
      "source": [
        "plt.figure(figsize=(15,7))\n",
        "g = sns.countplot(Y_train, palette=\"icefire\")\n",
        "plt.title(\"Number of digit classes\")\n",
        "plt.show()"
      ],
      "execution_count": 46,
      "outputs": [
        {
          "output_type": "stream",
          "text": [
            "/usr/local/lib/python3.7/dist-packages/seaborn/_decorators.py:43: FutureWarning: Pass the following variable as a keyword arg: x. From version 0.12, the only valid positional argument will be `data`, and passing other arguments without an explicit keyword will result in an error or misinterpretation.\n",
            "  FutureWarning\n"
          ],
          "name": "stderr"
        },
        {
          "output_type": "display_data",
          "data": {
            "image/png": "[encoded data removed]",
            "text/plain": [
              "<Figure size 1080x504 with 1 Axes>"
            ]
          },
          "metadata": {
            "tags": [],
            "needs_background": "light"
          }
        }
      ]
    },
    {
      "cell_type": "code",
      "metadata": {
        "colab": {
          "base_uri": "https://localhost:8080/",
          "height": 332
        },
        "id": "wC8la4Lu2cCe",
        "outputId": "d84826b5-115e-49f1-8f07-69987d6dff62"
      },
      "source": [
        "print(\"x_train shape\",X_train.shape)\n",
        "print(\"x_test shape\", X_val.shape)\n",
        "print(\"y_train shape\", Y_train.shape)\n",
        "print(\"y-test shape\", Y_val.shape)\n",
        "\n",
        "x_img_arr = X_train[0,:]\n",
        "plt.imshow(x_img_arr,cmap=\"gray\")\n",
        "plt.title(f'{Y_train[0]}')\n",
        "plt.axis(\"off\")\n",
        "plt.show()"
      ],
      "execution_count": 47,
      "outputs": [
        {
          "output_type": "stream",
          "text": [
            "x_train shape (54000, 28, 28)\n",
            "x_test shape (6000, 28, 28)\n",
            "y_train shape (54000,)\n",
            "y-test shape (6000,)\n"
          ],
          "name": "stdout"
        },
        {
          "output_type": "display_data",
          "data": {
            "image/png": "[encoded data removed]",
            "text/plain": [
              "<Figure size 432x288 with 1 Axes>"
            ]
          },
          "metadata": {
            "tags": [],
            "needs_background": "light"
          }
        }
      ]
    },
    {
      "cell_type": "code",
      "metadata": {
        "id": "ze2H60ML3eYn"
      },
      "source": [
        "X_train = X_train/255.0\n",
        "X_test = X_test/255.0"
      ],
      "execution_count": 48,
      "outputs": []
    },
    {
      "cell_type": "code",
      "metadata": {
        "id": "DfpLFJC83qb4"
      },
      "source": [
        "X_train = X_train.reshape(X_train.shape[0],28,28,1)\n",
        "X_test = X_test.reshape(X_test.shape[0],28,28,1)"
      ],
      "execution_count": 49,
      "outputs": []
    },
    {
      "cell_type": "code",
      "metadata": {
        "id": "fexUY5Ny4RDm"
      },
      "source": [
        "Y_train = to_categorical(Y_train, num_classes = 10)\n",
        "Y_test = to_categorical(Y_test, num_classes = 10)"
      ],
      "execution_count": 50,
      "outputs": []
    },
    {
      "cell_type": "code",
      "metadata": {
        "id": "5K-I3KCN5-fV"
      },
      "source": [
        "from sklearn.metrics import confusion_matrix\n",
        "import itertools\n",
        "\n",
        "from keras.utils.np_utils import to_categorical # convert to one-hot-encoding\n",
        "from keras.models import Sequential\n",
        "from keras.layers import Dense, Dropout, Flatten, Conv2D, MaxPool2D\n",
        "from keras.optimizers import RMSprop,Adam\n",
        "from keras.preprocessing.image import ImageDataGenerator\n",
        "from keras.callbacks import ReduceLROnPlateau"
      ],
      "execution_count": 52,
      "outputs": []
    },
    {
      "cell_type": "code",
      "metadata": {
        "id": "t25jppCB6T5Q"
      },
      "source": [
        "model = Sequential()\n",
        "model.add(Conv2D(filters = 8, kernel_size = (5,5), padding = 'Same', \n",
        "                 activation = 'relu'))\n",
        "model.add(MaxPool2D(pool_size=(2,2)))#regularize the data to fit for all the extreme but not too many\n",
        "#LOWERS THE DEMENTIONALITY TO ALLOW FOR FITTING TO OTHER MODELS\n",
        "model.add(Dropout(0.25))\n",
        "model.add(Conv2D(filters = 16, kernel_size = (3,3), padding = 'Same', activation = 'relu'))\n",
        "model.add(MaxPool2D(pool_size=(2,2), strides=(2,2)))\n",
        "model.add(Dropout(0.25))\n",
        "model.add(Flatten())\n",
        "model.add(Dense(256, activation = \"relu\"))\n",
        "model.add(Dropout(0.5))\n",
        "model.add(Dense(10, activation = \"softmax\"))\n",
        "\n"
      ],
      "execution_count": 53,
      "outputs": []
    },
    {
      "cell_type": "code",
      "metadata": {
        "id": "v0GOCuPL_txa"
      },
      "source": [
        "optimizer = Adam(learning_rate=0.001, beta_1=0.9, beta_2=0.999)\n",
        "model.compile(optimizer = optimizer , loss='categorical_crossentropy', metrics=[\"accuracy\"])"
      ],
      "execution_count": 58,
      "outputs": []
    },
    {
      "cell_type": "code",
      "metadata": {
        "id": "VOCtlLKNAW0j"
      },
      "source": [
        "epochs = 10 #number of times it goes through iterations\n",
        "batch_size = 250"
      ],
      "execution_count": 59,
      "outputs": []
    },
    {
      "cell_type": "code",
      "metadata": {
        "id": "dGtfMoD3Ajm-"
      },
      "source": [
        "datagen = ImageDataGenerator(\n",
        "    featurewise_center=False,\n",
        "    samplewise_center=False,\n",
        "    featurewise_std_normalization=False,\n",
        "    samplewise_std_normalization=False,\n",
        "    zca_whitening=False,\n",
        "    rotation_range=5,\n",
        "    zoom_range=0.1,\n",
        "    width_shift_range=0.1,\n",
        "    height_shift_range=0.1,\n",
        "    horizontal_flip=False,\n",
        "    vertical_flip=False)\n",
        "\n",
        "datagen.fit(X_train)\n"
      ],
      "execution_count": 60,
      "outputs": []
    },
    {
      "cell_type": "code",
      "metadata": {
        "colab": {
          "base_uri": "https://localhost:8080/"
        },
        "id": "MgIWamYVBmIF",
        "outputId": "d2f6d590-1423-44b3-b7ca-31375e4f7b32"
      },
      "source": [
        "history = model.fit_generator(datagen.flow(X_train,Y_train, batch_size=batch_size),\n",
        "                              epochs = epochs, validation_data = (X_test,Y_test), steps_per_epoch=X_train.shape[0] // batch_size)"
      ],
      "execution_count": 61,
      "outputs": [
        {
          "output_type": "stream",
          "text": [
            "/usr/local/lib/python3.7/dist-packages/keras/engine/training.py:1915: UserWarning: `Model.fit_generator` is deprecated and will be removed in a future version. Please use `Model.fit`, which supports generators.\n",
            "  warnings.warn('`Model.fit_generator` is deprecated and '\n"
          ],
          "name": "stderr"
        },
        {
          "output_type": "stream",
          "text": [
            "Epoch 1/10\n",
            "216/216 [==============================] - 53s 215ms/step - loss: 1.4005 - accuracy: 0.5275 - val_loss: 0.1394 - val_accuracy: 0.9597\n",
            "Epoch 2/10\n",
            "216/216 [==============================] - 45s 210ms/step - loss: 0.3777 - accuracy: 0.8817 - val_loss: 0.0808 - val_accuracy: 0.9746\n",
            "Epoch 3/10\n",
            "216/216 [==============================] - 45s 210ms/step - loss: 0.2636 - accuracy: 0.9176 - val_loss: 0.0633 - val_accuracy: 0.9801\n",
            "Epoch 4/10\n",
            "216/216 [==============================] - 46s 211ms/step - loss: 0.2231 - accuracy: 0.9309 - val_loss: 0.0520 - val_accuracy: 0.9833\n",
            "Epoch 5/10\n",
            "216/216 [==============================] - 46s 211ms/step - loss: 0.1947 - accuracy: 0.9402 - val_loss: 0.0447 - val_accuracy: 0.9841\n",
            "Epoch 6/10\n",
            "216/216 [==============================] - 45s 210ms/step - loss: 0.1752 - accuracy: 0.9460 - val_loss: 0.0418 - val_accuracy: 0.9857\n",
            "Epoch 7/10\n",
            "216/216 [==============================] - 46s 212ms/step - loss: 0.1682 - accuracy: 0.9488 - val_loss: 0.0379 - val_accuracy: 0.9867\n",
            "Epoch 8/10\n",
            "216/216 [==============================] - 46s 211ms/step - loss: 0.1517 - accuracy: 0.9532 - val_loss: 0.0360 - val_accuracy: 0.9874\n",
            "Epoch 9/10\n",
            "216/216 [==============================] - 46s 211ms/step - loss: 0.1504 - accuracy: 0.9538 - val_loss: 0.0338 - val_accuracy: 0.9882\n",
            "Epoch 10/10\n",
            "216/216 [==============================] - 46s 211ms/step - loss: 0.1381 - accuracy: 0.9575 - val_loss: 0.0310 - val_accuracy: 0.9893\n"
          ],
          "name": "stdout"
        }
      ]
    },
    {
      "cell_type": "code",
      "metadata": {
        "colab": {
          "base_uri": "https://localhost:8080/",
          "height": 295
        },
        "id": "OmuEvL88C6Jo",
        "outputId": "4d631419-c635-4311-e0a1-15c09bd3b4cf"
      },
      "source": [
        "plt.plot(history.history['val_loss'], color='b', label='validation loss')\n",
        "plt.title(\"Test Loss\")\n",
        "plt.xlabel(\"Number of epochs\")\n",
        "plt.ylabel(\"loss\")\n",
        "plt.legend()\n",
        "plt.show()"
      ],
      "execution_count": 63,
      "outputs": [
        {
          "output_type": "display_data",
          "data": {
            "image/png": "[encoded data removed]",
            "text/plain": [
              "<Figure size 432x288 with 1 Axes>"
            ]
          },
          "metadata": {
            "tags": [],
            "needs_background": "light"
          }
        }
      ]
    },
    {
      "cell_type": "code",
      "metadata": {
        "colab": {
          "base_uri": "https://localhost:8080/",
          "height": 683
        },
        "id": "WIL4vK-CDell",
        "outputId": "387e488e-b740-4017-985f-f47162f980f1"
      },
      "source": [
        "Y_pred = model.predict(X_test)\n",
        "Y_pred_classes = np.argmax(Y_pred,axis = 1)\n",
        "Y_true = np.argmax(Y_test,axis = 1)\n",
        "confusion_mtx = confusion_matrix(Y_true, Y_pred_classes)\n",
        "f,ax=plt.subplots(figsize=(8, 8))\n",
        "print(confusion_mtx)\n",
        "sns.heatmap(confusion_mtx, annot=True, linewidths=0.01, cmap=\"Greens\",linecolor=\"gray\", fmt='.1f',ax=ax)\n",
        "plt.xlabel(\"predicted label\")\n",
        "plt.ylabel(\"true label\")\n",
        "plt.title(\"confusion matrix\")\n",
        "plt.show()"
      ],
      "execution_count": 70,
      "outputs": [
        {
          "output_type": "stream",
          "text": [
            "[[ 975    0    0    0    0    0    3    1    1    0]\n",
            " [   0 1129    2    0    0    0    2    2    0    0]\n",
            " [   1    0 1016    4    0    0    0    8    3    0]\n",
            " [   0    0    0 1002    0    3    0    3    2    0]\n",
            " [   0    0    0    0  975    0    0    0    0    7]\n",
            " [   1    0    0    6    0  882    2    0    1    0]\n",
            " [   2    3    0    0    0    2  949    0    2    0]\n",
            " [   1    2    8    0    0    0    0 1015    2    0]\n",
            " [   1    2    2    1    1    1    1    2  960    3]\n",
            " [   0    2    0    1    5    3    0    4    4  990]]\n"
          ],
          "name": "stdout"
        },
        {
          "output_type": "display_data",
          "data": {
            "image/png": "[encoded data removed]",
            "text/plain": [
              "<Figure size 576x576 with 2 Axes>"
            ]
          },
          "metadata": {
            "tags": [],
            "needs_background": "light"
          }
        }
      ]
    }
  ]
}