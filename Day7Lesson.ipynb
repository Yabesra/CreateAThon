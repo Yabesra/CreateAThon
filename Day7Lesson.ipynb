{
  "nbformat": 4,
  "nbformat_minor": 0,
  "metadata": {
    "colab": {
      "name": "Day7Lesson.ipynb",
      "provenance": []
    },
    "kernelspec": {
      "name": "python3",
      "display_name": "Python 3"
    },
    "language_info": {
      "name": "python"
    }
  },
  "cells": [
    {
      "cell_type": "code",
      "metadata": {
        "id": "03rmxGOZxujZ"
      },
      "source": [
        "import tensorflow.compat.v1 as tf\n",
        "tf.disable_v2_behavior()\n",
        "\n",
        "from skimage import transform\n",
        "from skimage import data\n",
        "import matplotlib.pyplot as plt\n",
        "import os\n",
        "import numpy as np\n",
        "from skimage.color import rgb2gray\n",
        "import random\n",
        "from skimage import io\n"
      ],
      "execution_count": 24,
      "outputs": []
    },
    {
      "cell_type": "code",
      "metadata": {
        "colab": {
          "base_uri": "https://localhost:8080/"
        },
        "id": "WCnJhwOOqCIb",
        "outputId": "28df8342-005e-435c-b4f7-c13c9c4a3c37"
      },
      "source": [
        "#initalize\n",
        "\n",
        "x1 = tf.constant([1,2,3,4])\n",
        "x2 = tf.constant([5,6,7,8])\n",
        "\n",
        "result = tf.multiply(x1, x2)\n",
        "\n",
        "print(result)"
      ],
      "execution_count": 25,
      "outputs": [
        {
          "output_type": "stream",
          "text": [
            "Tensor(\"Mul_1:0\", shape=(4,), dtype=int32)\n"
          ],
          "name": "stdout"
        }
      ]
    },
    {
      "cell_type": "code",
      "metadata": {
        "colab": {
          "base_uri": "https://localhost:8080/"
        },
        "id": "5fWpuCJ4qUu0",
        "outputId": "543771cd-5158-4487-e53b-affbdf849ac4"
      },
      "source": [
        "#initalize the session\n",
        "\n",
        "sess = tf.Session()\n",
        "print(sess.run(result))\n",
        "sess.close()"
      ],
      "execution_count": 26,
      "outputs": [
        {
          "output_type": "stream",
          "text": [
            "[ 5 12 21 32]\n"
          ],
          "name": "stdout"
        }
      ]
    },
    {
      "cell_type": "code",
      "metadata": {
        "colab": {
          "base_uri": "https://localhost:8080/"
        },
        "id": "Y7i_aVl2qdvq",
        "outputId": "216a85c8-ee3a-4898-ab8c-48df1ddaeb71"
      },
      "source": [
        "#initalize session and run result\n",
        "with tf.Session() as sess:\n",
        "  output = sess.run(result)\n",
        "  print(output)"
      ],
      "execution_count": 27,
      "outputs": [
        {
          "output_type": "stream",
          "text": [
            "[ 5 12 21 32]\n"
          ],
          "name": "stdout"
        }
      ]
    },
    {
      "cell_type": "code",
      "metadata": {
        "id": "oJpLirBNzUK9"
      },
      "source": [
        "#ROOT_PATH = open(\"C:\\\\Users\\\\karlijnwillems\\\\Downloads\\\\\")\n",
        "test_data_dir = \"/content/drive/MyDrive/Colab Notebooks/Testing\"\n",
        "train_data_dir = \"/content/drive/MyDrive/Colab Notebooks/Training\"\n",
        "\n"
      ],
      "execution_count": 28,
      "outputs": []
    },
    {
      "cell_type": "code",
      "metadata": {
        "id": "O_ikjg734Qhu"
      },
      "source": [
        "def load_data(data_dir):\n",
        "    # Get all subdirectories of data_dir. Each represents a label.\n",
        "    directories = [d for d in os.listdir(data_dir) \n",
        "                   if os.path.isdir(os.path.join(data_dir, d))]\n",
        "\n",
        "    #defining all teh subdirectories of data_dir\n",
        "    #defining labels\n",
        "    labels=[]\n",
        "    images = []\n",
        "\n",
        "    for d in directories:\n",
        "            label_dir = os.path.join(data_dir, d)\n",
        "            file_names = [os.path.join(label_dir, f) \n",
        "                        for f in os.listdir(label_dir) \n",
        "                        if f.endswith(\".ppm\")]\n",
        "    for f in file_names:\n",
        "                                images.append(io.imread(f))\n",
        "                                labels.append(int(d))\n",
        "    return images, labels"
      ],
      "execution_count": 29,
      "outputs": []
    },
    {
      "cell_type": "code",
      "metadata": {
        "id": "O1zwBmoj1oSB"
      },
      "source": [
        "import os\n",
        "for dirname, _, filenames in os.walk('/kaggle/input'):\n",
        "    for filename in filenames:\n",
        "        print(os.path.join(dirname, filename))\n",
        "\n",
        "images, labels = load_data(train_data_dir)"
      ],
      "execution_count": 30,
      "outputs": []
    },
    {
      "cell_type": "code",
      "metadata": {
        "id": "Hgu1RjNA3OVP",
        "colab": {
          "base_uri": "https://localhost:8080/"
        },
        "outputId": "69318191-944a-4355-f92f-733f30f2a00a"
      },
      "source": [
        "images_array = np.array(images)\n",
        "labels_array = np.array(labels)\n",
        "\n",
        "# dimensions\n",
        "print(images_array.ndim)\n",
        "\n",
        "# image elements\n",
        "print(images_array.size)\n",
        "\n",
        "# first image\n",
        "images_array[0]\n",
        "\n",
        "# labels dimensions\n",
        "print(labels_array.ndim)\n",
        "\n",
        "# labels  elements\n",
        "print(labels_array.size)\n",
        "\n",
        "# Count the number of labels\n",
        "print(len(set(labels_array)))"
      ],
      "execution_count": 31,
      "outputs": [
        {
          "output_type": "stream",
          "text": [
            "1\n",
            "30\n",
            "1\n",
            "30\n",
            "1\n"
          ],
          "name": "stdout"
        },
        {
          "output_type": "stream",
          "text": [
            "/usr/local/lib/python3.7/dist-packages/ipykernel_launcher.py:1: VisibleDeprecationWarning: Creating an ndarray from ragged nested sequences (which is a list-or-tuple of lists-or-tuples-or ndarrays with different lengths or shapes) is deprecated. If you meant to do this, you must specify 'dtype=object' when creating the ndarray\n",
            "  \"\"\"Entry point for launching an IPython kernel.\n"
          ],
          "name": "stderr"
        }
      ]
    },
    {
      "cell_type": "code",
      "metadata": {
        "colab": {
          "base_uri": "https://localhost:8080/",
          "height": 265
        },
        "id": "b1izg0yYvHcN",
        "outputId": "f4cdd583-b60c-4f04-9ae0-8288247a976f"
      },
      "source": [
        "import matplotlib.pyplot as plt \n",
        "\n",
        "# Make a histogram with 62 bins of the `labels` data\n",
        "plt.hist(labels, 62)\n",
        "\n",
        "# Show the plot\n",
        "plt.show()"
      ],
      "execution_count": 34,
      "outputs": [
        {
          "output_type": "display_data",
          "data": {
            "image/png": "[encoded data removed]",
            "text/plain": [
              "<Figure size 432x288 with 1 Axes>"
            ]
          },
          "metadata": {
            "tags": [],
            "needs_background": "light"
          }
        }
      ]
    },
    {
      "cell_type": "code",
      "metadata": {
        "colab": {
          "base_uri": "https://localhost:8080/",
          "height": 248
        },
        "id": "tRcM53omvb87",
        "outputId": "6c4691a5-0c0e-41c5-f9ad-889c9705ab6e"
      },
      "source": [
        "import matplotlib.pyplot as plt\n",
        "\n",
        "# Determine the (random) indexes of the images that you want to see \n",
        "traffic_signs = [300, 2250, 3650, 4000]\n",
        "\n",
        "# Fill out the subplots with the random images that you defined \n",
        "for i in range(len(traffic_signs)):\n",
        "    plt.subplot(1, 4, i+1)\n",
        "    plt.axis('off')\n",
        "    #plt.imshow(images[traffic_signs[i]])\n",
        "    plt.subplots_adjust(wspace=0.5)\n",
        "\n",
        "plt.show()"
      ],
      "execution_count": 39,
      "outputs": [
        {
          "output_type": "display_data",
          "data": {
            "image/png": "[encoded data removed]",
            "text/plain": [
              "<Figure size 432x288 with 4 Axes>"
            ]
          },
          "metadata": {
            "tags": [],
            "needs_background": "light"
          }
        }
      ]
    }
  ]
}