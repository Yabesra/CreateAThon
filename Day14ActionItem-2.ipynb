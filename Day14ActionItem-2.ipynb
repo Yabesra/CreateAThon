{
  "nbformat": 4,
  "nbformat_minor": 0,
  "metadata": {
    "colab": {
      "name": "Day14ActionItem.ipynb",
      "provenance": []
    },
    "kernelspec": {
      "name": "python3",
      "display_name": "Python 3"
    },
    "language_info": {
      "name": "python"
    }
  },
  "cells": [
    {
      "cell_type": "code",
      "metadata": {
        "id": "E4o62jdmalzX"
      },
      "source": [
        "import pandas as pd\n",
        "from pandas import read_csv\n",
        "from sklearn import preprocessing\n",
        "from sklearn.model_selection import train_test_split\n",
        "from keras.models import Sequential\n",
        "from keras.layers import Dense\n",
        "import matplotlib.pyplot as plt\n",
        "from keras.layers import Dropout\n",
        "from keras import regularizers\n"
      ],
      "execution_count": 36,
      "outputs": []
    },
    {
      "cell_type": "code",
      "metadata": {
        "id": "fSbPqwaRa2bR"
      },
      "source": [
        "df = pd.read_csv('housepricedata.csv')"
      ],
      "execution_count": 2,
      "outputs": []
    },
    {
      "cell_type": "code",
      "metadata": {
        "id": "VfN-bviMa4T9",
        "colab": {
          "base_uri": "https://localhost:8080/",
          "height": 439
        },
        "outputId": "6c3edb72-d665-4982-e43c-339328ec3123"
      },
      "source": [
        "df"
      ],
      "execution_count": 3,
      "outputs": [
        {
          "output_type": "execute_result",
          "data": {
            "text/html": [
              "<div>\n",
              "<style scoped>\n",
              "    .dataframe tbody tr th:only-of-type {\n",
              "        vertical-align: middle;\n",
              "    }\n",
              "\n",
              "    .dataframe tbody tr th {\n",
              "        vertical-align: top;\n",
              "    }\n",
              "\n",
              "    .dataframe thead th {\n",
              "        text-align: right;\n",
              "    }\n",
              "</style>\n",
              "<table border=\"1\" class=\"dataframe\">\n",
              "  <thead>\n",
              "    <tr style=\"text-align: right;\">\n",
              "      <th></th>\n",
              "      <th>LotArea</th>\n",
              "      <th>OverallQual</th>\n",
              "      <th>OverallCond</th>\n",
              "      <th>TotalBsmtSF</th>\n",
              "      <th>FullBath</th>\n",
              "      <th>HalfBath</th>\n",
              "      <th>BedroomAbvGr</th>\n",
              "      <th>TotRmsAbvGrd</th>\n",
              "      <th>Fireplaces</th>\n",
              "      <th>GarageArea</th>\n",
              "      <th>AboveMedianPrice</th>\n",
              "    </tr>\n",
              "  </thead>\n",
              "  <tbody>\n",
              "    <tr>\n",
              "      <th>0</th>\n",
              "      <td>8450</td>\n",
              "      <td>7</td>\n",
              "      <td>5</td>\n",
              "      <td>856</td>\n",
              "      <td>2</td>\n",
              "      <td>1</td>\n",
              "      <td>3</td>\n",
              "      <td>8</td>\n",
              "      <td>0</td>\n",
              "      <td>548</td>\n",
              "      <td>1</td>\n",
              "    </tr>\n",
              "    <tr>\n",
              "      <th>1</th>\n",
              "      <td>9600</td>\n",
              "      <td>6</td>\n",
              "      <td>8</td>\n",
              "      <td>1262</td>\n",
              "      <td>2</td>\n",
              "      <td>0</td>\n",
              "      <td>3</td>\n",
              "      <td>6</td>\n",
              "      <td>1</td>\n",
              "      <td>460</td>\n",
              "      <td>1</td>\n",
              "    </tr>\n",
              "    <tr>\n",
              "      <th>2</th>\n",
              "      <td>11250</td>\n",
              "      <td>7</td>\n",
              "      <td>5</td>\n",
              "      <td>920</td>\n",
              "      <td>2</td>\n",
              "      <td>1</td>\n",
              "      <td>3</td>\n",
              "      <td>6</td>\n",
              "      <td>1</td>\n",
              "      <td>608</td>\n",
              "      <td>1</td>\n",
              "    </tr>\n",
              "    <tr>\n",
              "      <th>3</th>\n",
              "      <td>9550</td>\n",
              "      <td>7</td>\n",
              "      <td>5</td>\n",
              "      <td>756</td>\n",
              "      <td>1</td>\n",
              "      <td>0</td>\n",
              "      <td>3</td>\n",
              "      <td>7</td>\n",
              "      <td>1</td>\n",
              "      <td>642</td>\n",
              "      <td>0</td>\n",
              "    </tr>\n",
              "    <tr>\n",
              "      <th>4</th>\n",
              "      <td>14260</td>\n",
              "      <td>8</td>\n",
              "      <td>5</td>\n",
              "      <td>1145</td>\n",
              "      <td>2</td>\n",
              "      <td>1</td>\n",
              "      <td>4</td>\n",
              "      <td>9</td>\n",
              "      <td>1</td>\n",
              "      <td>836</td>\n",
              "      <td>1</td>\n",
              "    </tr>\n",
              "    <tr>\n",
              "      <th>...</th>\n",
              "      <td>...</td>\n",
              "      <td>...</td>\n",
              "      <td>...</td>\n",
              "      <td>...</td>\n",
              "      <td>...</td>\n",
              "      <td>...</td>\n",
              "      <td>...</td>\n",
              "      <td>...</td>\n",
              "      <td>...</td>\n",
              "      <td>...</td>\n",
              "      <td>...</td>\n",
              "    </tr>\n",
              "    <tr>\n",
              "      <th>1455</th>\n",
              "      <td>7917</td>\n",
              "      <td>6</td>\n",
              "      <td>5</td>\n",
              "      <td>953</td>\n",
              "      <td>2</td>\n",
              "      <td>1</td>\n",
              "      <td>3</td>\n",
              "      <td>7</td>\n",
              "      <td>1</td>\n",
              "      <td>460</td>\n",
              "      <td>1</td>\n",
              "    </tr>\n",
              "    <tr>\n",
              "      <th>1456</th>\n",
              "      <td>13175</td>\n",
              "      <td>6</td>\n",
              "      <td>6</td>\n",
              "      <td>1542</td>\n",
              "      <td>2</td>\n",
              "      <td>0</td>\n",
              "      <td>3</td>\n",
              "      <td>7</td>\n",
              "      <td>2</td>\n",
              "      <td>500</td>\n",
              "      <td>1</td>\n",
              "    </tr>\n",
              "    <tr>\n",
              "      <th>1457</th>\n",
              "      <td>9042</td>\n",
              "      <td>7</td>\n",
              "      <td>9</td>\n",
              "      <td>1152</td>\n",
              "      <td>2</td>\n",
              "      <td>0</td>\n",
              "      <td>4</td>\n",
              "      <td>9</td>\n",
              "      <td>2</td>\n",
              "      <td>252</td>\n",
              "      <td>1</td>\n",
              "    </tr>\n",
              "    <tr>\n",
              "      <th>1458</th>\n",
              "      <td>9717</td>\n",
              "      <td>5</td>\n",
              "      <td>6</td>\n",
              "      <td>1078</td>\n",
              "      <td>1</td>\n",
              "      <td>0</td>\n",
              "      <td>2</td>\n",
              "      <td>5</td>\n",
              "      <td>0</td>\n",
              "      <td>240</td>\n",
              "      <td>0</td>\n",
              "    </tr>\n",
              "    <tr>\n",
              "      <th>1459</th>\n",
              "      <td>9937</td>\n",
              "      <td>5</td>\n",
              "      <td>6</td>\n",
              "      <td>1256</td>\n",
              "      <td>1</td>\n",
              "      <td>1</td>\n",
              "      <td>3</td>\n",
              "      <td>6</td>\n",
              "      <td>0</td>\n",
              "      <td>276</td>\n",
              "      <td>0</td>\n",
              "    </tr>\n",
              "  </tbody>\n",
              "</table>\n",
              "<p>1460 rows × 11 columns</p>\n",
              "</div>"
            ],
            "text/plain": [
              "      LotArea  OverallQual  ...  GarageArea  AboveMedianPrice\n",
              "0        8450            7  ...         548                 1\n",
              "1        9600            6  ...         460                 1\n",
              "2       11250            7  ...         608                 1\n",
              "3        9550            7  ...         642                 0\n",
              "4       14260            8  ...         836                 1\n",
              "...       ...          ...  ...         ...               ...\n",
              "1455     7917            6  ...         460                 1\n",
              "1456    13175            6  ...         500                 1\n",
              "1457     9042            7  ...         252                 1\n",
              "1458     9717            5  ...         240                 0\n",
              "1459     9937            5  ...         276                 0\n",
              "\n",
              "[1460 rows x 11 columns]"
            ]
          },
          "metadata": {
            "tags": []
          },
          "execution_count": 3
        }
      ]
    },
    {
      "cell_type": "code",
      "metadata": {
        "id": "T4db5b30a8s-"
      },
      "source": [
        "dataset = df.values"
      ],
      "execution_count": 4,
      "outputs": []
    },
    {
      "cell_type": "code",
      "metadata": {
        "id": "4MhdpwrfcSmq",
        "colab": {
          "base_uri": "https://localhost:8080/"
        },
        "outputId": "fd96fee6-6c2d-4326-f672-549186ce7391"
      },
      "source": [
        "dataset"
      ],
      "execution_count": 5,
      "outputs": [
        {
          "output_type": "execute_result",
          "data": {
            "text/plain": [
              "array([[ 8450,     7,     5, ...,     0,   548,     1],\n",
              "       [ 9600,     6,     8, ...,     1,   460,     1],\n",
              "       [11250,     7,     5, ...,     1,   608,     1],\n",
              "       ...,\n",
              "       [ 9042,     7,     9, ...,     2,   252,     1],\n",
              "       [ 9717,     5,     6, ...,     0,   240,     0],\n",
              "       [ 9937,     5,     6, ...,     0,   276,     0]])"
            ]
          },
          "metadata": {
            "tags": []
          },
          "execution_count": 5
        }
      ]
    },
    {
      "cell_type": "code",
      "metadata": {
        "id": "OY5dI2aJcY7f"
      },
      "source": [
        "X = dataset[:,0:10]\n",
        "Y = dataset[:,10]"
      ],
      "execution_count": 6,
      "outputs": []
    },
    {
      "cell_type": "code",
      "metadata": {
        "id": "lxYLXCHJcbZY"
      },
      "source": [
        "min_max_scaler = preprocessing.MinMaxScaler()\n",
        "X_scale = min_max_scaler.fit_transform(X)"
      ],
      "execution_count": 7,
      "outputs": []
    },
    {
      "cell_type": "code",
      "metadata": {
        "id": "qUcpsBVFcixT",
        "colab": {
          "base_uri": "https://localhost:8080/"
        },
        "outputId": "32c0e2ac-5f86-4542-9874-712b5d4bb19f"
      },
      "source": [
        "X_scale"
      ],
      "execution_count": 8,
      "outputs": [
        {
          "output_type": "execute_result",
          "data": {
            "text/plain": [
              "array([[0.0334198 , 0.66666667, 0.5       , ..., 0.5       , 0.        ,\n",
              "        0.3864598 ],\n",
              "       [0.03879502, 0.55555556, 0.875     , ..., 0.33333333, 0.33333333,\n",
              "        0.32440056],\n",
              "       [0.04650728, 0.66666667, 0.5       , ..., 0.33333333, 0.33333333,\n",
              "        0.42877292],\n",
              "       ...,\n",
              "       [0.03618687, 0.66666667, 1.        , ..., 0.58333333, 0.66666667,\n",
              "        0.17771509],\n",
              "       [0.03934189, 0.44444444, 0.625     , ..., 0.25      , 0.        ,\n",
              "        0.16925247],\n",
              "       [0.04037019, 0.44444444, 0.625     , ..., 0.33333333, 0.        ,\n",
              "        0.19464034]])"
            ]
          },
          "metadata": {
            "tags": []
          },
          "execution_count": 8
        }
      ]
    },
    {
      "cell_type": "code",
      "metadata": {
        "id": "5D2HhDhzcjNg"
      },
      "source": [
        "X_train, X_val_and_test, Y_train, Y_val_and_test = train_test_split(X_scale, Y, test_size=0.3)"
      ],
      "execution_count": 9,
      "outputs": []
    },
    {
      "cell_type": "code",
      "metadata": {
        "id": "B1QiyQ80coD3",
        "colab": {
          "base_uri": "https://localhost:8080/"
        },
        "outputId": "bc46320c-a377-41ff-cbf2-69eaadbad395"
      },
      "source": [
        "X_val, X_test, Y_val, Y_test = train_test_split(X_val_and_test, Y_val_and_test, test_size=0.5)\n",
        "print(X_train.shape, X_val.shape, X_test.shape, Y_train.shape, Y_val.shape, Y_test.shape)"
      ],
      "execution_count": 10,
      "outputs": [
        {
          "output_type": "stream",
          "text": [
            "(1022, 10) (219, 10) (219, 10) (1022,) (219,) (219,)\n"
          ],
          "name": "stdout"
        }
      ]
    },
    {
      "cell_type": "code",
      "metadata": {
        "id": "xkjPBCIydJj8"
      },
      "source": [
        "model = Sequential([\n",
        "    Dense(32, activation='relu', input_shape=(10,)),\n",
        "    Dense(32, activation='relu'),\n",
        "    Dense(1, activation='sigmoid'),\n",
        "])"
      ],
      "execution_count": 11,
      "outputs": []
    },
    {
      "cell_type": "code",
      "metadata": {
        "id": "jOmgjsBedQAL"
      },
      "source": [
        "model.compile(optimizer='sgd', loss='binary_crossentropy', metrics=['accuracy'])"
      ],
      "execution_count": 12,
      "outputs": []
    },
    {
      "cell_type": "code",
      "metadata": {
        "id": "tsr75EEtdYhl",
        "colab": {
          "base_uri": "https://localhost:8080/"
        },
        "outputId": "0e0319bc-5189-412e-b5e9-92baa4720f20"
      },
      "source": [
        "hist = model.fit(X_train, Y_train, batch_size=32, epochs=100, validation_data=(X_val, Y_val))"
      ],
      "execution_count": 13,
      "outputs": [
        {
          "output_type": "stream",
          "text": [
            "Epoch 1/100\n",
            "32/32 [==============================] - 15s 23ms/step - loss: 0.6959 - accuracy: 0.4961 - val_loss: 0.6911 - val_accuracy: 0.5251\n",
            "Epoch 2/100\n",
            "32/32 [==============================] - 0s 2ms/step - loss: 0.6880 - accuracy: 0.6005 - val_loss: 0.6853 - val_accuracy: 0.6164\n",
            "Epoch 3/100\n",
            "32/32 [==============================] - 0s 2ms/step - loss: 0.6835 - accuracy: 0.6314 - val_loss: 0.6803 - val_accuracy: 0.6530\n",
            "Epoch 4/100\n",
            "32/32 [==============================] - 0s 2ms/step - loss: 0.6780 - accuracy: 0.6623 - val_loss: 0.6754 - val_accuracy: 0.6575\n",
            "Epoch 5/100\n",
            "32/32 [==============================] - 0s 2ms/step - loss: 0.6718 - accuracy: 0.6681 - val_loss: 0.6703 - val_accuracy: 0.6758\n",
            "Epoch 6/100\n",
            "32/32 [==============================] - 0s 2ms/step - loss: 0.6690 - accuracy: 0.6899 - val_loss: 0.6651 - val_accuracy: 0.6667\n",
            "Epoch 7/100\n",
            "32/32 [==============================] - 0s 3ms/step - loss: 0.6637 - accuracy: 0.7008 - val_loss: 0.6598 - val_accuracy: 0.6804\n",
            "Epoch 8/100\n",
            "32/32 [==============================] - 0s 3ms/step - loss: 0.6578 - accuracy: 0.7080 - val_loss: 0.6544 - val_accuracy: 0.6895\n",
            "Epoch 9/100\n",
            "32/32 [==============================] - 0s 2ms/step - loss: 0.6493 - accuracy: 0.7207 - val_loss: 0.6488 - val_accuracy: 0.7123\n",
            "Epoch 10/100\n",
            "32/32 [==============================] - 0s 3ms/step - loss: 0.6424 - accuracy: 0.7425 - val_loss: 0.6430 - val_accuracy: 0.7260\n",
            "Epoch 11/100\n",
            "32/32 [==============================] - 0s 2ms/step - loss: 0.6411 - accuracy: 0.7414 - val_loss: 0.6369 - val_accuracy: 0.7306\n",
            "Epoch 12/100\n",
            "32/32 [==============================] - 0s 2ms/step - loss: 0.6329 - accuracy: 0.7673 - val_loss: 0.6301 - val_accuracy: 0.7580\n",
            "Epoch 13/100\n",
            "32/32 [==============================] - 0s 2ms/step - loss: 0.6227 - accuracy: 0.7844 - val_loss: 0.6231 - val_accuracy: 0.7808\n",
            "Epoch 14/100\n",
            "32/32 [==============================] - 0s 2ms/step - loss: 0.6182 - accuracy: 0.7924 - val_loss: 0.6160 - val_accuracy: 0.7991\n",
            "Epoch 15/100\n",
            "32/32 [==============================] - 0s 2ms/step - loss: 0.6102 - accuracy: 0.7955 - val_loss: 0.6087 - val_accuracy: 0.8128\n",
            "Epoch 16/100\n",
            "32/32 [==============================] - 0s 2ms/step - loss: 0.6036 - accuracy: 0.8096 - val_loss: 0.6011 - val_accuracy: 0.8174\n",
            "Epoch 17/100\n",
            "32/32 [==============================] - 0s 2ms/step - loss: 0.5996 - accuracy: 0.7900 - val_loss: 0.5933 - val_accuracy: 0.8174\n",
            "Epoch 18/100\n",
            "32/32 [==============================] - 0s 2ms/step - loss: 0.5921 - accuracy: 0.8190 - val_loss: 0.5852 - val_accuracy: 0.8311\n",
            "Epoch 19/100\n",
            "32/32 [==============================] - 0s 3ms/step - loss: 0.5749 - accuracy: 0.8297 - val_loss: 0.5768 - val_accuracy: 0.8493\n",
            "Epoch 20/100\n",
            "32/32 [==============================] - 0s 2ms/step - loss: 0.5697 - accuracy: 0.8374 - val_loss: 0.5682 - val_accuracy: 0.8630\n",
            "Epoch 21/100\n",
            "32/32 [==============================] - 0s 3ms/step - loss: 0.5746 - accuracy: 0.8118 - val_loss: 0.5597 - val_accuracy: 0.8630\n",
            "Epoch 22/100\n",
            "32/32 [==============================] - 0s 2ms/step - loss: 0.5637 - accuracy: 0.8275 - val_loss: 0.5510 - val_accuracy: 0.8630\n",
            "Epoch 23/100\n",
            "32/32 [==============================] - 0s 2ms/step - loss: 0.5470 - accuracy: 0.8282 - val_loss: 0.5418 - val_accuracy: 0.8539\n",
            "Epoch 24/100\n",
            "32/32 [==============================] - 0s 3ms/step - loss: 0.5425 - accuracy: 0.8182 - val_loss: 0.5329 - val_accuracy: 0.8721\n",
            "Epoch 25/100\n",
            "32/32 [==============================] - 0s 2ms/step - loss: 0.5285 - accuracy: 0.8497 - val_loss: 0.5236 - val_accuracy: 0.8447\n",
            "Epoch 26/100\n",
            "32/32 [==============================] - 0s 3ms/step - loss: 0.5205 - accuracy: 0.8253 - val_loss: 0.5151 - val_accuracy: 0.8630\n",
            "Epoch 27/100\n",
            "32/32 [==============================] - 0s 2ms/step - loss: 0.5189 - accuracy: 0.8312 - val_loss: 0.5059 - val_accuracy: 0.8447\n",
            "Epoch 28/100\n",
            "32/32 [==============================] - 0s 3ms/step - loss: 0.5015 - accuracy: 0.8389 - val_loss: 0.4971 - val_accuracy: 0.8447\n",
            "Epoch 29/100\n",
            "32/32 [==============================] - 0s 2ms/step - loss: 0.4798 - accuracy: 0.8488 - val_loss: 0.4883 - val_accuracy: 0.8447\n",
            "Epoch 30/100\n",
            "32/32 [==============================] - 0s 2ms/step - loss: 0.4954 - accuracy: 0.8190 - val_loss: 0.4804 - val_accuracy: 0.8539\n",
            "Epoch 31/100\n",
            "32/32 [==============================] - 0s 2ms/step - loss: 0.4830 - accuracy: 0.8318 - val_loss: 0.4718 - val_accuracy: 0.8493\n",
            "Epoch 32/100\n",
            "32/32 [==============================] - 0s 3ms/step - loss: 0.4756 - accuracy: 0.8331 - val_loss: 0.4640 - val_accuracy: 0.8630\n",
            "Epoch 33/100\n",
            "32/32 [==============================] - 0s 2ms/step - loss: 0.4833 - accuracy: 0.8192 - val_loss: 0.4564 - val_accuracy: 0.8676\n",
            "Epoch 34/100\n",
            "32/32 [==============================] - 0s 3ms/step - loss: 0.4596 - accuracy: 0.8451 - val_loss: 0.4494 - val_accuracy: 0.8767\n",
            "Epoch 35/100\n",
            "32/32 [==============================] - 0s 2ms/step - loss: 0.4605 - accuracy: 0.8424 - val_loss: 0.4405 - val_accuracy: 0.8539\n",
            "Epoch 36/100\n",
            "32/32 [==============================] - 0s 2ms/step - loss: 0.4634 - accuracy: 0.8179 - val_loss: 0.4332 - val_accuracy: 0.8539\n",
            "Epoch 37/100\n",
            "32/32 [==============================] - 0s 2ms/step - loss: 0.4269 - accuracy: 0.8436 - val_loss: 0.4265 - val_accuracy: 0.8630\n",
            "Epoch 38/100\n",
            "32/32 [==============================] - 0s 2ms/step - loss: 0.4309 - accuracy: 0.8495 - val_loss: 0.4195 - val_accuracy: 0.8584\n",
            "Epoch 39/100\n",
            "32/32 [==============================] - 0s 3ms/step - loss: 0.4209 - accuracy: 0.8537 - val_loss: 0.4128 - val_accuracy: 0.8676\n",
            "Epoch 40/100\n",
            "32/32 [==============================] - 0s 2ms/step - loss: 0.4102 - accuracy: 0.8519 - val_loss: 0.4071 - val_accuracy: 0.8721\n",
            "Epoch 41/100\n",
            "32/32 [==============================] - 0s 2ms/step - loss: 0.4205 - accuracy: 0.8336 - val_loss: 0.4016 - val_accuracy: 0.8767\n",
            "Epoch 42/100\n",
            "32/32 [==============================] - 0s 2ms/step - loss: 0.4129 - accuracy: 0.8526 - val_loss: 0.3953 - val_accuracy: 0.8813\n",
            "Epoch 43/100\n",
            "32/32 [==============================] - 0s 2ms/step - loss: 0.4045 - accuracy: 0.8643 - val_loss: 0.3895 - val_accuracy: 0.8813\n",
            "Epoch 44/100\n",
            "32/32 [==============================] - 0s 2ms/step - loss: 0.3931 - accuracy: 0.8652 - val_loss: 0.3839 - val_accuracy: 0.8767\n",
            "Epoch 45/100\n",
            "32/32 [==============================] - 0s 2ms/step - loss: 0.4054 - accuracy: 0.8497 - val_loss: 0.3796 - val_accuracy: 0.8813\n",
            "Epoch 46/100\n",
            "32/32 [==============================] - 0s 3ms/step - loss: 0.3868 - accuracy: 0.8617 - val_loss: 0.3755 - val_accuracy: 0.8858\n",
            "Epoch 47/100\n",
            "32/32 [==============================] - 0s 2ms/step - loss: 0.3837 - accuracy: 0.8648 - val_loss: 0.3699 - val_accuracy: 0.8813\n",
            "Epoch 48/100\n",
            "32/32 [==============================] - 0s 2ms/step - loss: 0.3920 - accuracy: 0.8569 - val_loss: 0.3653 - val_accuracy: 0.8813\n",
            "Epoch 49/100\n",
            "32/32 [==============================] - 0s 2ms/step - loss: 0.3717 - accuracy: 0.8668 - val_loss: 0.3610 - val_accuracy: 0.8813\n",
            "Epoch 50/100\n",
            "32/32 [==============================] - 0s 2ms/step - loss: 0.3810 - accuracy: 0.8590 - val_loss: 0.3572 - val_accuracy: 0.8813\n",
            "Epoch 51/100\n",
            "32/32 [==============================] - 0s 2ms/step - loss: 0.3712 - accuracy: 0.8638 - val_loss: 0.3543 - val_accuracy: 0.8813\n",
            "Epoch 52/100\n",
            "32/32 [==============================] - 0s 2ms/step - loss: 0.3931 - accuracy: 0.8518 - val_loss: 0.3496 - val_accuracy: 0.8767\n",
            "Epoch 53/100\n",
            "32/32 [==============================] - 0s 2ms/step - loss: 0.3628 - accuracy: 0.8689 - val_loss: 0.3464 - val_accuracy: 0.8767\n",
            "Epoch 54/100\n",
            "32/32 [==============================] - 0s 2ms/step - loss: 0.3358 - accuracy: 0.8934 - val_loss: 0.3444 - val_accuracy: 0.8813\n",
            "Epoch 55/100\n",
            "32/32 [==============================] - 0s 3ms/step - loss: 0.3776 - accuracy: 0.8606 - val_loss: 0.3403 - val_accuracy: 0.8767\n",
            "Epoch 56/100\n",
            "32/32 [==============================] - 0s 2ms/step - loss: 0.3762 - accuracy: 0.8495 - val_loss: 0.3380 - val_accuracy: 0.8813\n",
            "Epoch 57/100\n",
            "32/32 [==============================] - 0s 3ms/step - loss: 0.3622 - accuracy: 0.8608 - val_loss: 0.3339 - val_accuracy: 0.8676\n",
            "Epoch 58/100\n",
            "32/32 [==============================] - 0s 2ms/step - loss: 0.3413 - accuracy: 0.8680 - val_loss: 0.3315 - val_accuracy: 0.8721\n",
            "Epoch 59/100\n",
            "32/32 [==============================] - 0s 3ms/step - loss: 0.3522 - accuracy: 0.8626 - val_loss: 0.3291 - val_accuracy: 0.8676\n",
            "Epoch 60/100\n",
            "32/32 [==============================] - 0s 2ms/step - loss: 0.3397 - accuracy: 0.8626 - val_loss: 0.3279 - val_accuracy: 0.8813\n",
            "Epoch 61/100\n",
            "32/32 [==============================] - 0s 2ms/step - loss: 0.3443 - accuracy: 0.8643 - val_loss: 0.3263 - val_accuracy: 0.8813\n",
            "Epoch 62/100\n",
            "32/32 [==============================] - 0s 2ms/step - loss: 0.3311 - accuracy: 0.8645 - val_loss: 0.3222 - val_accuracy: 0.8676\n",
            "Epoch 63/100\n",
            "32/32 [==============================] - 0s 2ms/step - loss: 0.3354 - accuracy: 0.8652 - val_loss: 0.3198 - val_accuracy: 0.8721\n",
            "Epoch 64/100\n",
            "32/32 [==============================] - 0s 2ms/step - loss: 0.3265 - accuracy: 0.8711 - val_loss: 0.3181 - val_accuracy: 0.8676\n",
            "Epoch 65/100\n",
            "32/32 [==============================] - 0s 2ms/step - loss: 0.3348 - accuracy: 0.8664 - val_loss: 0.3157 - val_accuracy: 0.8721\n",
            "Epoch 66/100\n",
            "32/32 [==============================] - 0s 2ms/step - loss: 0.3407 - accuracy: 0.8541 - val_loss: 0.3145 - val_accuracy: 0.8767\n",
            "Epoch 67/100\n",
            "32/32 [==============================] - 0s 2ms/step - loss: 0.3234 - accuracy: 0.8767 - val_loss: 0.3120 - val_accuracy: 0.8721\n",
            "Epoch 68/100\n",
            "32/32 [==============================] - 0s 2ms/step - loss: 0.3379 - accuracy: 0.8637 - val_loss: 0.3108 - val_accuracy: 0.8767\n",
            "Epoch 69/100\n",
            "32/32 [==============================] - 0s 2ms/step - loss: 0.3361 - accuracy: 0.8654 - val_loss: 0.3112 - val_accuracy: 0.8767\n",
            "Epoch 70/100\n",
            "32/32 [==============================] - 0s 3ms/step - loss: 0.3194 - accuracy: 0.8754 - val_loss: 0.3073 - val_accuracy: 0.8767\n",
            "Epoch 71/100\n",
            "32/32 [==============================] - 0s 3ms/step - loss: 0.3238 - accuracy: 0.8741 - val_loss: 0.3066 - val_accuracy: 0.8813\n",
            "Epoch 72/100\n",
            "32/32 [==============================] - 0s 3ms/step - loss: 0.3303 - accuracy: 0.8672 - val_loss: 0.3044 - val_accuracy: 0.8767\n",
            "Epoch 73/100\n",
            "32/32 [==============================] - 0s 3ms/step - loss: 0.3154 - accuracy: 0.8767 - val_loss: 0.3028 - val_accuracy: 0.8813\n",
            "Epoch 74/100\n",
            "32/32 [==============================] - 0s 3ms/step - loss: 0.2939 - accuracy: 0.8818 - val_loss: 0.3015 - val_accuracy: 0.8721\n",
            "Epoch 75/100\n",
            "32/32 [==============================] - 0s 2ms/step - loss: 0.3129 - accuracy: 0.8734 - val_loss: 0.3008 - val_accuracy: 0.8767\n",
            "Epoch 76/100\n",
            "32/32 [==============================] - 0s 2ms/step - loss: 0.3097 - accuracy: 0.8827 - val_loss: 0.2992 - val_accuracy: 0.8813\n",
            "Epoch 77/100\n",
            "32/32 [==============================] - 0s 2ms/step - loss: 0.3086 - accuracy: 0.8791 - val_loss: 0.2978 - val_accuracy: 0.8813\n",
            "Epoch 78/100\n",
            "32/32 [==============================] - 0s 2ms/step - loss: 0.3174 - accuracy: 0.8783 - val_loss: 0.2979 - val_accuracy: 0.8813\n",
            "Epoch 79/100\n",
            "32/32 [==============================] - 0s 3ms/step - loss: 0.3172 - accuracy: 0.8702 - val_loss: 0.2956 - val_accuracy: 0.8813\n",
            "Epoch 80/100\n",
            "32/32 [==============================] - 0s 2ms/step - loss: 0.3284 - accuracy: 0.8635 - val_loss: 0.2949 - val_accuracy: 0.8858\n",
            "Epoch 81/100\n",
            "32/32 [==============================] - 0s 2ms/step - loss: 0.2869 - accuracy: 0.8928 - val_loss: 0.2944 - val_accuracy: 0.8813\n",
            "Epoch 82/100\n",
            "32/32 [==============================] - 0s 3ms/step - loss: 0.3232 - accuracy: 0.8752 - val_loss: 0.2925 - val_accuracy: 0.8813\n",
            "Epoch 83/100\n",
            "32/32 [==============================] - 0s 2ms/step - loss: 0.2979 - accuracy: 0.8845 - val_loss: 0.2931 - val_accuracy: 0.8767\n",
            "Epoch 84/100\n",
            "32/32 [==============================] - 0s 3ms/step - loss: 0.3115 - accuracy: 0.8801 - val_loss: 0.2907 - val_accuracy: 0.8858\n",
            "Epoch 85/100\n",
            "32/32 [==============================] - 0s 2ms/step - loss: 0.3117 - accuracy: 0.8701 - val_loss: 0.2895 - val_accuracy: 0.8858\n",
            "Epoch 86/100\n",
            "32/32 [==============================] - 0s 2ms/step - loss: 0.2976 - accuracy: 0.8872 - val_loss: 0.2888 - val_accuracy: 0.8858\n",
            "Epoch 87/100\n",
            "32/32 [==============================] - 0s 2ms/step - loss: 0.2852 - accuracy: 0.8856 - val_loss: 0.2880 - val_accuracy: 0.8904\n",
            "Epoch 88/100\n",
            "32/32 [==============================] - 0s 2ms/step - loss: 0.2841 - accuracy: 0.8919 - val_loss: 0.2877 - val_accuracy: 0.8904\n",
            "Epoch 89/100\n",
            "32/32 [==============================] - 0s 2ms/step - loss: 0.2930 - accuracy: 0.8856 - val_loss: 0.2876 - val_accuracy: 0.8858\n",
            "Epoch 90/100\n",
            "32/32 [==============================] - 0s 2ms/step - loss: 0.3179 - accuracy: 0.8855 - val_loss: 0.2876 - val_accuracy: 0.8767\n",
            "Epoch 91/100\n",
            "32/32 [==============================] - 0s 2ms/step - loss: 0.3073 - accuracy: 0.8934 - val_loss: 0.2857 - val_accuracy: 0.8904\n",
            "Epoch 92/100\n",
            "32/32 [==============================] - 0s 2ms/step - loss: 0.3307 - accuracy: 0.8680 - val_loss: 0.2855 - val_accuracy: 0.8813\n",
            "Epoch 93/100\n",
            "32/32 [==============================] - 0s 3ms/step - loss: 0.3237 - accuracy: 0.8611 - val_loss: 0.2837 - val_accuracy: 0.8950\n",
            "Epoch 94/100\n",
            "32/32 [==============================] - 0s 2ms/step - loss: 0.2920 - accuracy: 0.8874 - val_loss: 0.2839 - val_accuracy: 0.8767\n",
            "Epoch 95/100\n",
            "32/32 [==============================] - 0s 2ms/step - loss: 0.3000 - accuracy: 0.8748 - val_loss: 0.2815 - val_accuracy: 0.8950\n",
            "Epoch 96/100\n",
            "32/32 [==============================] - 0s 2ms/step - loss: 0.2805 - accuracy: 0.8954 - val_loss: 0.2814 - val_accuracy: 0.8950\n",
            "Epoch 97/100\n",
            "32/32 [==============================] - 0s 3ms/step - loss: 0.2833 - accuracy: 0.8909 - val_loss: 0.2810 - val_accuracy: 0.8950\n",
            "Epoch 98/100\n",
            "32/32 [==============================] - 0s 3ms/step - loss: 0.2701 - accuracy: 0.8931 - val_loss: 0.2795 - val_accuracy: 0.8995\n",
            "Epoch 99/100\n",
            "32/32 [==============================] - 0s 2ms/step - loss: 0.2997 - accuracy: 0.8821 - val_loss: 0.2788 - val_accuracy: 0.8995\n",
            "Epoch 100/100\n",
            "32/32 [==============================] - 0s 2ms/step - loss: 0.2800 - accuracy: 0.8892 - val_loss: 0.2782 - val_accuracy: 0.8950\n"
          ],
          "name": "stdout"
        }
      ]
    },
    {
      "cell_type": "code",
      "metadata": {
        "id": "vzrB1O_Gdc-C",
        "colab": {
          "base_uri": "https://localhost:8080/"
        },
        "outputId": "51589781-ae67-4075-e6ae-12af7df689a2"
      },
      "source": [
        "model.evaluate(X_test, Y_test)[1]"
      ],
      "execution_count": 14,
      "outputs": [
        {
          "output_type": "stream",
          "text": [
            "7/7 [==============================] - 0s 2ms/step - loss: 0.2510 - accuracy: 0.9041\n"
          ],
          "name": "stdout"
        },
        {
          "output_type": "execute_result",
          "data": {
            "text/plain": [
              "0.9041095972061157"
            ]
          },
          "metadata": {
            "tags": []
          },
          "execution_count": 14
        }
      ]
    },
    {
      "cell_type": "code",
      "metadata": {
        "id": "hbe-kzARddcs",
        "colab": {
          "base_uri": "https://localhost:8080/",
          "height": 295
        },
        "outputId": "f4cc57c1-c54b-4923-ea53-8ce74acf0990"
      },
      "source": [
        "plt.plot(hist.history['loss'])\n",
        "plt.plot(hist.history['val_loss'])\n",
        "plt.title('Model loss')\n",
        "plt.ylabel('Loss')\n",
        "plt.xlabel('Epoch')\n",
        "plt.legend(['Train', 'Val'], loc='upper right')\n",
        "plt.show()"
      ],
      "execution_count": 15,
      "outputs": [
        {
          "output_type": "display_data",
          "data": {
            "image/png": "[encoded data removed]",
            "text/plain": [
              "<Figure size 432x288 with 1 Axes>"
            ]
          },
          "metadata": {
            "tags": [],
            "needs_background": "light"
          }
        }
      ]
    },
    {
      "cell_type": "code",
      "metadata": {
        "id": "2LYRsw1gdibL",
        "colab": {
          "base_uri": "https://localhost:8080/",
          "height": 295
        },
        "outputId": "e7fa1171-02f2-46a8-f356-d24ddb70ec1c"
      },
      "source": [
        "plt.plot(hist.history['accuracy'])\n",
        "plt.plot(hist.history['val_accuracy'])\n",
        "plt.title('Model accuracy')\n",
        "plt.ylabel('Accuracy')\n",
        "plt.xlabel('Epoch')\n",
        "plt.legend(['Train', 'Val'], loc='lower right')\n",
        "plt.show()"
      ],
      "execution_count": 51,
      "outputs": [
        {
          "output_type": "display_data",
          "data": {
            "image/png": "[encoded data removed]",
            "text/plain": [
              "<Figure size 432x288 with 1 Axes>"
            ]
          },
          "metadata": {
            "tags": [],
            "needs_background": "light"
          }
        }
      ]
    },
    {
      "cell_type": "code",
      "metadata": {
        "id": "ITAq6laidlIJ"
      },
      "source": [
        "model_2 = Sequential([\n",
        "    Dense(1000, activation='relu', input_shape=(10,)),\n",
        "    Dense(1000, activation='relu'),\n",
        "    Dense(1000, activation='relu'),\n",
        "    Dense(1000, activation='relu'),\n",
        "    Dense(1, activation='sigmoid'),\n",
        "])"
      ],
      "execution_count": 17,
      "outputs": []
    },
    {
      "cell_type": "code",
      "metadata": {
        "id": "0Dz9-lWtdnLU",
        "colab": {
          "base_uri": "https://localhost:8080/"
        },
        "outputId": "9bbb285d-618a-4ac8-f907-53ab29a5c926"
      },
      "source": [
        "model_2.compile(optimizer='adam', loss='binary_crossentropy', metrics=['accuracy'])\n",
        "hist_2 = model_2.fit(X_train, Y_train, batch_size=32, epochs=100, validation_data=(X_val, Y_val))"
      ],
      "execution_count": 18,
      "outputs": [
        {
          "output_type": "stream",
          "text": [
            "Epoch 1/100\n",
            "32/32 [==============================] - 3s 50ms/step - loss: 0.5603 - accuracy: 0.6797 - val_loss: 0.3772 - val_accuracy: 0.8402\n",
            "Epoch 2/100\n",
            "32/32 [==============================] - 1s 37ms/step - loss: 0.3749 - accuracy: 0.8484 - val_loss: 0.3096 - val_accuracy: 0.8950\n",
            "Epoch 3/100\n",
            "32/32 [==============================] - 1s 36ms/step - loss: 0.3326 - accuracy: 0.8730 - val_loss: 0.3030 - val_accuracy: 0.8447\n",
            "Epoch 4/100\n",
            "32/32 [==============================] - 1s 37ms/step - loss: 0.2797 - accuracy: 0.8910 - val_loss: 0.3575 - val_accuracy: 0.8174\n",
            "Epoch 5/100\n",
            "32/32 [==============================] - 1s 38ms/step - loss: 0.2908 - accuracy: 0.8775 - val_loss: 0.2547 - val_accuracy: 0.8767\n",
            "Epoch 6/100\n",
            "32/32 [==============================] - 1s 36ms/step - loss: 0.2440 - accuracy: 0.8990 - val_loss: 0.3052 - val_accuracy: 0.8676\n",
            "Epoch 7/100\n",
            "32/32 [==============================] - 1s 37ms/step - loss: 0.2638 - accuracy: 0.8880 - val_loss: 0.2457 - val_accuracy: 0.8858\n",
            "Epoch 8/100\n",
            "32/32 [==============================] - 1s 37ms/step - loss: 0.2372 - accuracy: 0.8854 - val_loss: 0.2684 - val_accuracy: 0.8721\n",
            "Epoch 9/100\n",
            "32/32 [==============================] - 1s 37ms/step - loss: 0.2406 - accuracy: 0.8917 - val_loss: 0.2773 - val_accuracy: 0.8813\n",
            "Epoch 10/100\n",
            "32/32 [==============================] - 1s 37ms/step - loss: 0.2366 - accuracy: 0.9019 - val_loss: 0.2785 - val_accuracy: 0.8813\n",
            "Epoch 11/100\n",
            "32/32 [==============================] - 1s 38ms/step - loss: 0.2559 - accuracy: 0.8905 - val_loss: 0.3130 - val_accuracy: 0.8676\n",
            "Epoch 12/100\n",
            "32/32 [==============================] - 1s 38ms/step - loss: 0.2639 - accuracy: 0.8881 - val_loss: 0.2439 - val_accuracy: 0.8950\n",
            "Epoch 13/100\n",
            "32/32 [==============================] - 1s 37ms/step - loss: 0.2239 - accuracy: 0.9118 - val_loss: 0.3112 - val_accuracy: 0.8676\n",
            "Epoch 14/100\n",
            "32/32 [==============================] - 1s 37ms/step - loss: 0.2307 - accuracy: 0.8941 - val_loss: 0.3325 - val_accuracy: 0.8676\n",
            "Epoch 15/100\n",
            "32/32 [==============================] - 1s 36ms/step - loss: 0.2485 - accuracy: 0.9018 - val_loss: 0.2646 - val_accuracy: 0.8858\n",
            "Epoch 16/100\n",
            "32/32 [==============================] - 1s 37ms/step - loss: 0.1985 - accuracy: 0.9091 - val_loss: 0.2600 - val_accuracy: 0.8767\n",
            "Epoch 17/100\n",
            "32/32 [==============================] - 1s 38ms/step - loss: 0.1996 - accuracy: 0.9050 - val_loss: 0.2764 - val_accuracy: 0.8721\n",
            "Epoch 18/100\n",
            "32/32 [==============================] - 1s 37ms/step - loss: 0.2435 - accuracy: 0.8959 - val_loss: 0.2548 - val_accuracy: 0.8721\n",
            "Epoch 19/100\n",
            "32/32 [==============================] - 1s 38ms/step - loss: 0.1827 - accuracy: 0.9096 - val_loss: 0.2980 - val_accuracy: 0.8584\n",
            "Epoch 20/100\n",
            "32/32 [==============================] - 1s 36ms/step - loss: 0.1864 - accuracy: 0.9114 - val_loss: 0.3030 - val_accuracy: 0.8676\n",
            "Epoch 21/100\n",
            "32/32 [==============================] - 1s 37ms/step - loss: 0.2010 - accuracy: 0.9186 - val_loss: 0.3279 - val_accuracy: 0.8630\n",
            "Epoch 22/100\n",
            "32/32 [==============================] - 1s 37ms/step - loss: 0.2283 - accuracy: 0.9078 - val_loss: 0.2649 - val_accuracy: 0.8858\n",
            "Epoch 23/100\n",
            "32/32 [==============================] - 1s 37ms/step - loss: 0.2261 - accuracy: 0.9004 - val_loss: 0.3300 - val_accuracy: 0.8539\n",
            "Epoch 24/100\n",
            "32/32 [==============================] - 1s 38ms/step - loss: 0.2000 - accuracy: 0.9164 - val_loss: 0.2872 - val_accuracy: 0.8721\n",
            "Epoch 25/100\n",
            "32/32 [==============================] - 1s 37ms/step - loss: 0.1899 - accuracy: 0.9342 - val_loss: 0.2692 - val_accuracy: 0.8767\n",
            "Epoch 26/100\n",
            "32/32 [==============================] - 1s 39ms/step - loss: 0.1843 - accuracy: 0.9146 - val_loss: 0.2697 - val_accuracy: 0.8813\n",
            "Epoch 27/100\n",
            "32/32 [==============================] - 1s 39ms/step - loss: 0.1735 - accuracy: 0.9235 - val_loss: 0.3395 - val_accuracy: 0.8630\n",
            "Epoch 28/100\n",
            "32/32 [==============================] - 1s 39ms/step - loss: 0.1766 - accuracy: 0.9226 - val_loss: 0.2965 - val_accuracy: 0.8721\n",
            "Epoch 29/100\n",
            "32/32 [==============================] - 1s 37ms/step - loss: 0.1660 - accuracy: 0.9384 - val_loss: 0.3058 - val_accuracy: 0.8630\n",
            "Epoch 30/100\n",
            "32/32 [==============================] - 1s 38ms/step - loss: 0.1829 - accuracy: 0.9315 - val_loss: 0.3070 - val_accuracy: 0.8630\n",
            "Epoch 31/100\n",
            "32/32 [==============================] - 1s 38ms/step - loss: 0.1833 - accuracy: 0.9138 - val_loss: 0.2859 - val_accuracy: 0.8950\n",
            "Epoch 32/100\n",
            "32/32 [==============================] - 1s 37ms/step - loss: 0.1981 - accuracy: 0.9252 - val_loss: 0.2867 - val_accuracy: 0.8584\n",
            "Epoch 33/100\n",
            "32/32 [==============================] - 1s 38ms/step - loss: 0.1825 - accuracy: 0.9235 - val_loss: 0.3072 - val_accuracy: 0.8767\n",
            "Epoch 34/100\n",
            "32/32 [==============================] - 1s 38ms/step - loss: 0.1835 - accuracy: 0.9251 - val_loss: 0.2963 - val_accuracy: 0.8721\n",
            "Epoch 35/100\n",
            "32/32 [==============================] - 1s 37ms/step - loss: 0.1481 - accuracy: 0.9349 - val_loss: 0.3134 - val_accuracy: 0.8676\n",
            "Epoch 36/100\n",
            "32/32 [==============================] - 1s 37ms/step - loss: 0.1668 - accuracy: 0.9293 - val_loss: 0.3137 - val_accuracy: 0.8630\n",
            "Epoch 37/100\n",
            "32/32 [==============================] - 1s 37ms/step - loss: 0.1429 - accuracy: 0.9410 - val_loss: 0.3545 - val_accuracy: 0.8493\n",
            "Epoch 38/100\n",
            "32/32 [==============================] - 1s 37ms/step - loss: 0.1559 - accuracy: 0.9390 - val_loss: 0.3575 - val_accuracy: 0.8493\n",
            "Epoch 39/100\n",
            "32/32 [==============================] - 1s 38ms/step - loss: 0.1548 - accuracy: 0.9266 - val_loss: 0.3253 - val_accuracy: 0.8721\n",
            "Epoch 40/100\n",
            "32/32 [==============================] - 1s 38ms/step - loss: 0.1485 - accuracy: 0.9468 - val_loss: 0.3506 - val_accuracy: 0.8584\n",
            "Epoch 41/100\n",
            "32/32 [==============================] - 1s 38ms/step - loss: 0.1641 - accuracy: 0.9288 - val_loss: 0.3797 - val_accuracy: 0.8630\n",
            "Epoch 42/100\n",
            "32/32 [==============================] - 1s 38ms/step - loss: 0.1565 - accuracy: 0.9360 - val_loss: 0.2817 - val_accuracy: 0.8858\n",
            "Epoch 43/100\n",
            "32/32 [==============================] - 1s 39ms/step - loss: 0.2221 - accuracy: 0.9198 - val_loss: 0.2916 - val_accuracy: 0.8676\n",
            "Epoch 44/100\n",
            "32/32 [==============================] - 1s 37ms/step - loss: 0.1472 - accuracy: 0.9355 - val_loss: 0.2793 - val_accuracy: 0.8676\n",
            "Epoch 45/100\n",
            "32/32 [==============================] - 1s 38ms/step - loss: 0.1674 - accuracy: 0.9345 - val_loss: 0.3369 - val_accuracy: 0.8311\n",
            "Epoch 46/100\n",
            "32/32 [==============================] - 1s 37ms/step - loss: 0.1645 - accuracy: 0.9262 - val_loss: 0.3356 - val_accuracy: 0.8493\n",
            "Epoch 47/100\n",
            "32/32 [==============================] - 1s 37ms/step - loss: 0.1579 - accuracy: 0.9353 - val_loss: 0.3301 - val_accuracy: 0.8584\n",
            "Epoch 48/100\n",
            "32/32 [==============================] - 1s 38ms/step - loss: 0.1645 - accuracy: 0.9329 - val_loss: 0.3873 - val_accuracy: 0.8402\n",
            "Epoch 49/100\n",
            "32/32 [==============================] - 1s 39ms/step - loss: 0.1209 - accuracy: 0.9583 - val_loss: 0.3334 - val_accuracy: 0.8813\n",
            "Epoch 50/100\n",
            "32/32 [==============================] - 1s 38ms/step - loss: 0.1727 - accuracy: 0.9343 - val_loss: 0.4038 - val_accuracy: 0.8721\n",
            "Epoch 51/100\n",
            "32/32 [==============================] - 1s 38ms/step - loss: 0.2110 - accuracy: 0.9265 - val_loss: 0.3467 - val_accuracy: 0.8630\n",
            "Epoch 52/100\n",
            "32/32 [==============================] - 1s 39ms/step - loss: 0.1657 - accuracy: 0.9259 - val_loss: 0.3502 - val_accuracy: 0.8630\n",
            "Epoch 53/100\n",
            "32/32 [==============================] - 1s 39ms/step - loss: 0.1417 - accuracy: 0.9413 - val_loss: 0.4586 - val_accuracy: 0.8447\n",
            "Epoch 54/100\n",
            "32/32 [==============================] - 1s 39ms/step - loss: 0.1397 - accuracy: 0.9427 - val_loss: 0.3761 - val_accuracy: 0.8493\n",
            "Epoch 55/100\n",
            "32/32 [==============================] - 1s 38ms/step - loss: 0.1391 - accuracy: 0.9472 - val_loss: 0.3607 - val_accuracy: 0.8721\n",
            "Epoch 56/100\n",
            "32/32 [==============================] - 1s 38ms/step - loss: 0.1468 - accuracy: 0.9433 - val_loss: 0.4635 - val_accuracy: 0.8447\n",
            "Epoch 57/100\n",
            "32/32 [==============================] - 1s 39ms/step - loss: 0.1514 - accuracy: 0.9384 - val_loss: 0.3285 - val_accuracy: 0.8676\n",
            "Epoch 58/100\n",
            "32/32 [==============================] - 1s 38ms/step - loss: 0.1366 - accuracy: 0.9509 - val_loss: 0.4582 - val_accuracy: 0.8676\n",
            "Epoch 59/100\n",
            "32/32 [==============================] - 1s 38ms/step - loss: 0.1369 - accuracy: 0.9442 - val_loss: 0.4322 - val_accuracy: 0.8539\n",
            "Epoch 60/100\n",
            "32/32 [==============================] - 1s 37ms/step - loss: 0.1472 - accuracy: 0.9296 - val_loss: 0.4750 - val_accuracy: 0.8493\n",
            "Epoch 61/100\n",
            "32/32 [==============================] - 1s 37ms/step - loss: 0.1720 - accuracy: 0.9294 - val_loss: 0.3811 - val_accuracy: 0.8767\n",
            "Epoch 62/100\n",
            "32/32 [==============================] - 1s 38ms/step - loss: 0.1685 - accuracy: 0.9316 - val_loss: 0.3431 - val_accuracy: 0.8858\n",
            "Epoch 63/100\n",
            "32/32 [==============================] - 1s 38ms/step - loss: 0.1431 - accuracy: 0.9416 - val_loss: 0.3490 - val_accuracy: 0.8676\n",
            "Epoch 64/100\n",
            "32/32 [==============================] - 1s 38ms/step - loss: 0.1218 - accuracy: 0.9584 - val_loss: 0.3652 - val_accuracy: 0.8447\n",
            "Epoch 65/100\n",
            "32/32 [==============================] - 1s 38ms/step - loss: 0.1178 - accuracy: 0.9454 - val_loss: 0.4756 - val_accuracy: 0.8539\n",
            "Epoch 66/100\n",
            "32/32 [==============================] - 1s 39ms/step - loss: 0.1401 - accuracy: 0.9509 - val_loss: 0.3674 - val_accuracy: 0.8584\n",
            "Epoch 67/100\n",
            "32/32 [==============================] - 1s 38ms/step - loss: 0.1673 - accuracy: 0.9277 - val_loss: 0.3712 - val_accuracy: 0.8539\n",
            "Epoch 68/100\n",
            "32/32 [==============================] - 1s 40ms/step - loss: 0.1396 - accuracy: 0.9501 - val_loss: 0.4783 - val_accuracy: 0.8265\n",
            "Epoch 69/100\n",
            "32/32 [==============================] - 1s 39ms/step - loss: 0.1247 - accuracy: 0.9403 - val_loss: 0.4402 - val_accuracy: 0.8447\n",
            "Epoch 70/100\n",
            "32/32 [==============================] - 1s 38ms/step - loss: 0.1369 - accuracy: 0.9411 - val_loss: 0.5388 - val_accuracy: 0.8447\n",
            "Epoch 71/100\n",
            "32/32 [==============================] - 1s 38ms/step - loss: 0.0959 - accuracy: 0.9644 - val_loss: 0.3921 - val_accuracy: 0.8493\n",
            "Epoch 72/100\n",
            "32/32 [==============================] - 1s 38ms/step - loss: 0.1285 - accuracy: 0.9611 - val_loss: 0.4943 - val_accuracy: 0.8493\n",
            "Epoch 73/100\n",
            "32/32 [==============================] - 1s 37ms/step - loss: 0.1321 - accuracy: 0.9476 - val_loss: 0.4936 - val_accuracy: 0.8676\n",
            "Epoch 74/100\n",
            "32/32 [==============================] - 1s 37ms/step - loss: 0.1416 - accuracy: 0.9540 - val_loss: 0.5179 - val_accuracy: 0.8539\n",
            "Epoch 75/100\n",
            "32/32 [==============================] - 1s 38ms/step - loss: 0.1172 - accuracy: 0.9504 - val_loss: 0.5168 - val_accuracy: 0.8676\n",
            "Epoch 76/100\n",
            "32/32 [==============================] - 1s 38ms/step - loss: 0.1355 - accuracy: 0.9387 - val_loss: 0.5787 - val_accuracy: 0.8493\n",
            "Epoch 77/100\n",
            "32/32 [==============================] - 1s 38ms/step - loss: 0.1192 - accuracy: 0.9534 - val_loss: 0.5235 - val_accuracy: 0.8493\n",
            "Epoch 78/100\n",
            "32/32 [==============================] - 1s 39ms/step - loss: 0.1026 - accuracy: 0.9571 - val_loss: 0.5466 - val_accuracy: 0.8676\n",
            "Epoch 79/100\n",
            "32/32 [==============================] - 1s 39ms/step - loss: 0.0895 - accuracy: 0.9676 - val_loss: 0.7553 - val_accuracy: 0.8265\n",
            "Epoch 80/100\n",
            "32/32 [==============================] - 1s 39ms/step - loss: 0.1515 - accuracy: 0.9408 - val_loss: 0.4131 - val_accuracy: 0.8721\n",
            "Epoch 81/100\n",
            "32/32 [==============================] - 1s 38ms/step - loss: 0.0969 - accuracy: 0.9675 - val_loss: 0.6003 - val_accuracy: 0.8767\n",
            "Epoch 82/100\n",
            "32/32 [==============================] - 1s 38ms/step - loss: 0.0896 - accuracy: 0.9656 - val_loss: 0.6324 - val_accuracy: 0.8676\n",
            "Epoch 83/100\n",
            "32/32 [==============================] - 1s 38ms/step - loss: 0.1175 - accuracy: 0.9536 - val_loss: 0.5710 - val_accuracy: 0.8493\n",
            "Epoch 84/100\n",
            "32/32 [==============================] - 1s 38ms/step - loss: 0.1326 - accuracy: 0.9447 - val_loss: 0.6178 - val_accuracy: 0.8311\n",
            "Epoch 85/100\n",
            "32/32 [==============================] - 1s 37ms/step - loss: 0.1350 - accuracy: 0.9481 - val_loss: 0.5028 - val_accuracy: 0.8630\n",
            "Epoch 86/100\n",
            "32/32 [==============================] - 1s 37ms/step - loss: 0.1097 - accuracy: 0.9648 - val_loss: 0.4897 - val_accuracy: 0.8402\n",
            "Epoch 87/100\n",
            "32/32 [==============================] - 1s 37ms/step - loss: 0.0902 - accuracy: 0.9678 - val_loss: 0.6103 - val_accuracy: 0.8219\n",
            "Epoch 88/100\n",
            "32/32 [==============================] - 1s 37ms/step - loss: 0.0827 - accuracy: 0.9720 - val_loss: 0.7096 - val_accuracy: 0.8539\n",
            "Epoch 89/100\n",
            "32/32 [==============================] - 1s 38ms/step - loss: 0.1272 - accuracy: 0.9481 - val_loss: 0.5250 - val_accuracy: 0.8630\n",
            "Epoch 90/100\n",
            "32/32 [==============================] - 1s 38ms/step - loss: 0.1249 - accuracy: 0.9522 - val_loss: 0.6148 - val_accuracy: 0.8584\n",
            "Epoch 91/100\n",
            "32/32 [==============================] - 1s 39ms/step - loss: 0.0917 - accuracy: 0.9651 - val_loss: 0.6589 - val_accuracy: 0.8493\n",
            "Epoch 92/100\n",
            "32/32 [==============================] - 1s 40ms/step - loss: 0.0788 - accuracy: 0.9709 - val_loss: 0.5451 - val_accuracy: 0.8356\n",
            "Epoch 93/100\n",
            "32/32 [==============================] - 1s 40ms/step - loss: 0.1426 - accuracy: 0.9398 - val_loss: 0.4512 - val_accuracy: 0.8447\n",
            "Epoch 94/100\n",
            "32/32 [==============================] - 1s 39ms/step - loss: 0.1116 - accuracy: 0.9675 - val_loss: 0.4871 - val_accuracy: 0.8493\n",
            "Epoch 95/100\n",
            "32/32 [==============================] - 1s 37ms/step - loss: 0.1276 - accuracy: 0.9477 - val_loss: 0.6146 - val_accuracy: 0.8676\n",
            "Epoch 96/100\n",
            "32/32 [==============================] - 1s 38ms/step - loss: 0.1025 - accuracy: 0.9623 - val_loss: 0.7084 - val_accuracy: 0.8493\n",
            "Epoch 97/100\n",
            "32/32 [==============================] - 1s 38ms/step - loss: 0.1098 - accuracy: 0.9560 - val_loss: 0.6408 - val_accuracy: 0.8402\n",
            "Epoch 98/100\n",
            "32/32 [==============================] - 1s 38ms/step - loss: 0.1065 - accuracy: 0.9586 - val_loss: 0.5779 - val_accuracy: 0.8539\n",
            "Epoch 99/100\n",
            "32/32 [==============================] - 1s 37ms/step - loss: 0.1347 - accuracy: 0.9534 - val_loss: 0.6903 - val_accuracy: 0.8402\n",
            "Epoch 100/100\n",
            "32/32 [==============================] - 1s 38ms/step - loss: 0.0924 - accuracy: 0.9582 - val_loss: 0.5622 - val_accuracy: 0.8356\n"
          ],
          "name": "stdout"
        }
      ]
    },
    {
      "cell_type": "code",
      "metadata": {
        "id": "u-Bjxly9d28i",
        "colab": {
          "base_uri": "https://localhost:8080/",
          "height": 295
        },
        "outputId": "69764715-96fa-4630-ccc9-b2436fbc58b3"
      },
      "source": [
        "plt.plot(hist_2.history['loss'])\n",
        "plt.plot(hist_2.history['val_loss'])\n",
        "plt.title('Model loss')\n",
        "plt.ylabel('Loss')\n",
        "plt.xlabel('Epoch')\n",
        "plt.legend(['Train', 'Val'], loc='upper right')\n",
        "plt.show()"
      ],
      "execution_count": 19,
      "outputs": [
        {
          "output_type": "display_data",
          "data": {
            "image/png": "[encoded data removed]",
            "text/plain": [
              "<Figure size 432x288 with 1 Axes>"
            ]
          },
          "metadata": {
            "tags": [],
            "needs_background": "light"
          }
        }
      ]
    },
    {
      "cell_type": "code",
      "metadata": {
        "id": "5mJlqdcyd8h-",
        "colab": {
          "base_uri": "https://localhost:8080/",
          "height": 312
        },
        "outputId": "8fd798aa-4185-4003-afac-3bab5f21bd5a"
      },
      "source": [
        "\n",
        "plt.plot(hist_2.history['accuracy'])\n",
        "plt.plot(hist_2.history['val_accuracy'])\n",
        "plt.title('Model Accuracy')\n",
        "plt.ylabel('Accuracy')\n",
        "plt.xlabel('Epoch')\n",
        "plt.legend(['Training', 'Validation'], loc='lower right')"
      ],
      "execution_count": 52,
      "outputs": [
        {
          "output_type": "execute_result",
          "data": {
            "text/plain": [
              "<matplotlib.legend.Legend at 0x7f032dbd5d50>"
            ]
          },
          "metadata": {
            "tags": []
          },
          "execution_count": 52
        },
        {
          "output_type": "display_data",
          "data": {
            "image/png": "[encoded data removed]",
            "text/plain": [
              "<Figure size 432x288 with 1 Axes>"
            ]
          },
          "metadata": {
            "tags": [],
            "needs_background": "light"
          }
        }
      ]
    },
    {
      "cell_type": "code",
      "metadata": {
        "id": "YuVzfl8IeCY0"
      },
      "source": [
        "model_3 = Sequential([\n",
        "    Dense(1000, activation='relu', kernel_regularizer=regularizers.l2(0.01), input_shape=(10,)),\n",
        "    Dropout(0.3),\n",
        "    Dense(1000, activation='relu', kernel_regularizer=regularizers.l2(0.01)),\n",
        "    Dropout(0.3),\n",
        "    Dense(1000, activation='relu', kernel_regularizer=regularizers.l2(0.01)),\n",
        "    Dropout(0.3),\n",
        "    Dense(1000, activation='relu', kernel_regularizer=regularizers.l2(0.01)),\n",
        "    Dropout(0.3),\n",
        "    Dense(1, activation='sigmoid', kernel_regularizer=regularizers.l2(0.01)),\n",
        "])"
      ],
      "execution_count": 32,
      "outputs": []
    },
    {
      "cell_type": "code",
      "metadata": {
        "id": "cpb8W2HXeI5_",
        "colab": {
          "base_uri": "https://localhost:8080/"
        },
        "outputId": "72189449-2c4d-4bbb-d092-3de49a3b0e55"
      },
      "source": [
        "model_3.compile(optimizer='adam', loss='binary_crossentropy', metrics=['accuracy'])\n",
        "hist_3 = model_3.fit(X_train, Y_train, batch_size=32, epochs=100, validation_data=(X_val, Y_val))"
      ],
      "execution_count": 33,
      "outputs": [
        {
          "output_type": "stream",
          "text": [
            "Epoch 1/100\n",
            "32/32 [==============================] - 4s 62ms/step - loss: 21.1244 - accuracy: 0.5871 - val_loss: 3.8960 - val_accuracy: 0.7489\n",
            "Epoch 2/100\n",
            "32/32 [==============================] - 2s 48ms/step - loss: 2.4921 - accuracy: 0.8220 - val_loss: 0.6672 - val_accuracy: 0.8721\n",
            "Epoch 3/100\n",
            "32/32 [==============================] - 2s 48ms/step - loss: 0.6079 - accuracy: 0.8737 - val_loss: 0.4862 - val_accuracy: 0.8904\n",
            "Epoch 4/100\n",
            "32/32 [==============================] - 2s 49ms/step - loss: 0.5006 - accuracy: 0.8750 - val_loss: 0.5267 - val_accuracy: 0.8311\n",
            "Epoch 5/100\n",
            "32/32 [==============================] - 2s 47ms/step - loss: 0.5118 - accuracy: 0.8471 - val_loss: 0.5719 - val_accuracy: 0.8219\n",
            "Epoch 6/100\n",
            "32/32 [==============================] - 2s 48ms/step - loss: 0.4840 - accuracy: 0.8775 - val_loss: 0.4644 - val_accuracy: 0.8950\n",
            "Epoch 7/100\n",
            "32/32 [==============================] - 2s 47ms/step - loss: 0.4949 - accuracy: 0.8782 - val_loss: 0.4565 - val_accuracy: 0.8721\n",
            "Epoch 8/100\n",
            "32/32 [==============================] - 2s 48ms/step - loss: 0.4870 - accuracy: 0.8689 - val_loss: 0.4489 - val_accuracy: 0.8676\n",
            "Epoch 9/100\n",
            "32/32 [==============================] - 2s 47ms/step - loss: 0.4577 - accuracy: 0.8844 - val_loss: 0.5029 - val_accuracy: 0.8447\n",
            "Epoch 10/100\n",
            "32/32 [==============================] - 2s 47ms/step - loss: 0.4824 - accuracy: 0.8711 - val_loss: 0.4320 - val_accuracy: 0.8995\n",
            "Epoch 11/100\n",
            "32/32 [==============================] - 2s 48ms/step - loss: 0.4672 - accuracy: 0.8761 - val_loss: 0.4958 - val_accuracy: 0.8447\n",
            "Epoch 12/100\n",
            "32/32 [==============================] - 2s 47ms/step - loss: 0.4822 - accuracy: 0.8599 - val_loss: 0.5078 - val_accuracy: 0.8265\n",
            "Epoch 13/100\n",
            "32/32 [==============================] - 2s 48ms/step - loss: 0.4767 - accuracy: 0.8688 - val_loss: 0.4328 - val_accuracy: 0.8950\n",
            "Epoch 14/100\n",
            "32/32 [==============================] - 2s 49ms/step - loss: 0.4647 - accuracy: 0.8778 - val_loss: 0.4280 - val_accuracy: 0.8813\n",
            "Epoch 15/100\n",
            "32/32 [==============================] - 2s 48ms/step - loss: 0.4600 - accuracy: 0.8834 - val_loss: 0.4228 - val_accuracy: 0.8950\n",
            "Epoch 16/100\n",
            "32/32 [==============================] - 2s 50ms/step - loss: 0.4650 - accuracy: 0.8582 - val_loss: 0.4381 - val_accuracy: 0.8813\n",
            "Epoch 17/100\n",
            "32/32 [==============================] - 2s 51ms/step - loss: 0.4441 - accuracy: 0.8806 - val_loss: 0.4328 - val_accuracy: 0.9041\n",
            "Epoch 18/100\n",
            "32/32 [==============================] - 2s 50ms/step - loss: 0.4787 - accuracy: 0.8720 - val_loss: 0.4515 - val_accuracy: 0.8676\n",
            "Epoch 19/100\n",
            "32/32 [==============================] - 2s 48ms/step - loss: 0.4681 - accuracy: 0.8640 - val_loss: 0.5399 - val_accuracy: 0.8037\n",
            "Epoch 20/100\n",
            "32/32 [==============================] - 2s 48ms/step - loss: 0.4847 - accuracy: 0.8651 - val_loss: 0.4580 - val_accuracy: 0.8630\n",
            "Epoch 21/100\n",
            "32/32 [==============================] - 2s 49ms/step - loss: 0.4768 - accuracy: 0.8557 - val_loss: 0.4880 - val_accuracy: 0.8493\n",
            "Epoch 22/100\n",
            "32/32 [==============================] - 2s 48ms/step - loss: 0.4806 - accuracy: 0.8624 - val_loss: 0.4198 - val_accuracy: 0.8904\n",
            "Epoch 23/100\n",
            "32/32 [==============================] - 2s 49ms/step - loss: 0.4451 - accuracy: 0.8768 - val_loss: 0.4288 - val_accuracy: 0.9087\n",
            "Epoch 24/100\n",
            "32/32 [==============================] - 2s 50ms/step - loss: 0.4346 - accuracy: 0.8865 - val_loss: 0.4232 - val_accuracy: 0.8995\n",
            "Epoch 25/100\n",
            "32/32 [==============================] - 2s 49ms/step - loss: 0.4589 - accuracy: 0.8625 - val_loss: 0.4488 - val_accuracy: 0.8767\n",
            "Epoch 26/100\n",
            "32/32 [==============================] - 2s 48ms/step - loss: 0.4579 - accuracy: 0.8817 - val_loss: 0.4283 - val_accuracy: 0.8904\n",
            "Epoch 27/100\n",
            "32/32 [==============================] - 2s 49ms/step - loss: 0.4484 - accuracy: 0.8723 - val_loss: 0.4194 - val_accuracy: 0.8995\n",
            "Epoch 28/100\n",
            "32/32 [==============================] - 2s 49ms/step - loss: 0.4327 - accuracy: 0.8808 - val_loss: 0.4530 - val_accuracy: 0.8950\n",
            "Epoch 29/100\n",
            "32/32 [==============================] - 2s 50ms/step - loss: 0.4406 - accuracy: 0.8789 - val_loss: 0.4221 - val_accuracy: 0.8950\n",
            "Epoch 30/100\n",
            "32/32 [==============================] - 2s 50ms/step - loss: 0.4707 - accuracy: 0.8563 - val_loss: 0.4321 - val_accuracy: 0.8813\n",
            "Epoch 31/100\n",
            "32/32 [==============================] - 2s 49ms/step - loss: 0.4720 - accuracy: 0.8532 - val_loss: 0.4193 - val_accuracy: 0.8950\n",
            "Epoch 32/100\n",
            "32/32 [==============================] - 2s 48ms/step - loss: 0.4409 - accuracy: 0.8886 - val_loss: 0.4623 - val_accuracy: 0.8721\n",
            "Epoch 33/100\n",
            "32/32 [==============================] - 2s 49ms/step - loss: 0.4790 - accuracy: 0.8640 - val_loss: 0.4648 - val_accuracy: 0.8493\n",
            "Epoch 34/100\n",
            "32/32 [==============================] - 2s 49ms/step - loss: 0.4399 - accuracy: 0.8905 - val_loss: 0.4445 - val_accuracy: 0.8584\n",
            "Epoch 35/100\n",
            "32/32 [==============================] - 2s 50ms/step - loss: 0.4583 - accuracy: 0.8701 - val_loss: 0.4145 - val_accuracy: 0.8950\n",
            "Epoch 36/100\n",
            "32/32 [==============================] - 2s 49ms/step - loss: 0.4434 - accuracy: 0.8818 - val_loss: 0.4269 - val_accuracy: 0.8950\n",
            "Epoch 37/100\n",
            "32/32 [==============================] - 2s 48ms/step - loss: 0.4348 - accuracy: 0.8891 - val_loss: 0.4188 - val_accuracy: 0.8904\n",
            "Epoch 38/100\n",
            "32/32 [==============================] - 2s 48ms/step - loss: 0.4508 - accuracy: 0.8670 - val_loss: 0.4146 - val_accuracy: 0.8904\n",
            "Epoch 39/100\n",
            "32/32 [==============================] - 2s 50ms/step - loss: 0.4537 - accuracy: 0.8652 - val_loss: 0.4189 - val_accuracy: 0.8950\n",
            "Epoch 40/100\n",
            "32/32 [==============================] - 2s 48ms/step - loss: 0.4709 - accuracy: 0.8602 - val_loss: 0.4530 - val_accuracy: 0.8584\n",
            "Epoch 41/100\n",
            "32/32 [==============================] - 2s 47ms/step - loss: 0.4624 - accuracy: 0.8736 - val_loss: 0.4668 - val_accuracy: 0.8584\n",
            "Epoch 42/100\n",
            "32/32 [==============================] - 2s 49ms/step - loss: 0.4703 - accuracy: 0.8675 - val_loss: 0.4234 - val_accuracy: 0.9041\n",
            "Epoch 43/100\n",
            "32/32 [==============================] - 2s 49ms/step - loss: 0.4562 - accuracy: 0.8697 - val_loss: 0.4752 - val_accuracy: 0.8539\n",
            "Epoch 44/100\n",
            "32/32 [==============================] - 2s 48ms/step - loss: 0.4834 - accuracy: 0.8610 - val_loss: 0.4641 - val_accuracy: 0.8539\n",
            "Epoch 45/100\n",
            "32/32 [==============================] - 2s 48ms/step - loss: 0.4619 - accuracy: 0.8694 - val_loss: 0.4330 - val_accuracy: 0.8858\n",
            "Epoch 46/100\n",
            "32/32 [==============================] - 2s 47ms/step - loss: 0.4520 - accuracy: 0.8787 - val_loss: 0.4174 - val_accuracy: 0.8950\n",
            "Epoch 47/100\n",
            "32/32 [==============================] - 2s 48ms/step - loss: 0.4425 - accuracy: 0.8714 - val_loss: 0.4148 - val_accuracy: 0.8904\n",
            "Epoch 48/100\n",
            "32/32 [==============================] - 2s 48ms/step - loss: 0.4879 - accuracy: 0.8716 - val_loss: 0.4252 - val_accuracy: 0.8904\n",
            "Epoch 49/100\n",
            "32/32 [==============================] - 2s 48ms/step - loss: 0.4527 - accuracy: 0.8818 - val_loss: 0.4358 - val_accuracy: 0.8630\n",
            "Epoch 50/100\n",
            "32/32 [==============================] - 2s 49ms/step - loss: 0.4676 - accuracy: 0.8675 - val_loss: 0.4292 - val_accuracy: 0.9087\n",
            "Epoch 51/100\n",
            "32/32 [==============================] - 2s 48ms/step - loss: 0.4611 - accuracy: 0.8771 - val_loss: 0.4199 - val_accuracy: 0.8950\n",
            "Epoch 52/100\n",
            "32/32 [==============================] - 2s 48ms/step - loss: 0.4459 - accuracy: 0.8797 - val_loss: 0.4137 - val_accuracy: 0.8950\n",
            "Epoch 53/100\n",
            "32/32 [==============================] - 2s 48ms/step - loss: 0.4575 - accuracy: 0.8834 - val_loss: 0.4275 - val_accuracy: 0.8858\n",
            "Epoch 54/100\n",
            "32/32 [==============================] - 2s 49ms/step - loss: 0.4386 - accuracy: 0.8761 - val_loss: 0.4210 - val_accuracy: 0.8904\n",
            "Epoch 55/100\n",
            "32/32 [==============================] - 2s 49ms/step - loss: 0.4391 - accuracy: 0.8889 - val_loss: 0.4213 - val_accuracy: 0.8950\n",
            "Epoch 56/100\n",
            "32/32 [==============================] - 2s 49ms/step - loss: 0.4569 - accuracy: 0.8671 - val_loss: 0.4150 - val_accuracy: 0.8858\n",
            "Epoch 57/100\n",
            "32/32 [==============================] - 2s 50ms/step - loss: 0.4091 - accuracy: 0.9017 - val_loss: 0.4470 - val_accuracy: 0.8858\n",
            "Epoch 58/100\n",
            "32/32 [==============================] - 2s 48ms/step - loss: 0.4526 - accuracy: 0.8713 - val_loss: 0.4460 - val_accuracy: 0.8584\n",
            "Epoch 59/100\n",
            "32/32 [==============================] - 2s 49ms/step - loss: 0.4161 - accuracy: 0.8999 - val_loss: 0.4193 - val_accuracy: 0.8995\n",
            "Epoch 60/100\n",
            "32/32 [==============================] - 2s 48ms/step - loss: 0.4855 - accuracy: 0.8639 - val_loss: 0.4125 - val_accuracy: 0.8995\n",
            "Epoch 61/100\n",
            "32/32 [==============================] - 2s 49ms/step - loss: 0.4441 - accuracy: 0.8821 - val_loss: 0.4209 - val_accuracy: 0.8904\n",
            "Epoch 62/100\n",
            "32/32 [==============================] - 2s 50ms/step - loss: 0.4364 - accuracy: 0.8849 - val_loss: 0.4442 - val_accuracy: 0.8584\n",
            "Epoch 63/100\n",
            "32/32 [==============================] - 2s 51ms/step - loss: 0.4457 - accuracy: 0.8668 - val_loss: 0.4584 - val_accuracy: 0.8584\n",
            "Epoch 64/100\n",
            "32/32 [==============================] - 2s 50ms/step - loss: 0.4438 - accuracy: 0.8842 - val_loss: 0.4248 - val_accuracy: 0.8950\n",
            "Epoch 65/100\n",
            "32/32 [==============================] - 2s 49ms/step - loss: 0.4531 - accuracy: 0.8719 - val_loss: 0.4299 - val_accuracy: 0.8767\n",
            "Epoch 66/100\n",
            "32/32 [==============================] - 2s 49ms/step - loss: 0.4478 - accuracy: 0.8712 - val_loss: 0.4190 - val_accuracy: 0.9087\n",
            "Epoch 67/100\n",
            "32/32 [==============================] - 2s 50ms/step - loss: 0.4487 - accuracy: 0.8763 - val_loss: 0.4230 - val_accuracy: 0.8904\n",
            "Epoch 68/100\n",
            "32/32 [==============================] - 2s 49ms/step - loss: 0.4580 - accuracy: 0.8707 - val_loss: 0.4139 - val_accuracy: 0.8950\n",
            "Epoch 69/100\n",
            "32/32 [==============================] - 2s 49ms/step - loss: 0.4380 - accuracy: 0.8766 - val_loss: 0.4254 - val_accuracy: 0.8904\n",
            "Epoch 70/100\n",
            "32/32 [==============================] - 2s 50ms/step - loss: 0.4488 - accuracy: 0.8742 - val_loss: 0.4225 - val_accuracy: 0.8904\n",
            "Epoch 71/100\n",
            "32/32 [==============================] - 2s 49ms/step - loss: 0.4653 - accuracy: 0.8451 - val_loss: 0.4166 - val_accuracy: 0.8950\n",
            "Epoch 72/100\n",
            "32/32 [==============================] - 2s 49ms/step - loss: 0.4315 - accuracy: 0.8742 - val_loss: 0.4156 - val_accuracy: 0.8858\n",
            "Epoch 73/100\n",
            "32/32 [==============================] - 2s 50ms/step - loss: 0.4546 - accuracy: 0.8818 - val_loss: 0.4167 - val_accuracy: 0.8995\n",
            "Epoch 74/100\n",
            "32/32 [==============================] - 2s 49ms/step - loss: 0.4444 - accuracy: 0.8941 - val_loss: 0.4229 - val_accuracy: 0.8995\n",
            "Epoch 75/100\n",
            "32/32 [==============================] - 2s 51ms/step - loss: 0.4584 - accuracy: 0.8766 - val_loss: 0.4356 - val_accuracy: 0.8721\n",
            "Epoch 76/100\n",
            "32/32 [==============================] - 2s 49ms/step - loss: 0.4497 - accuracy: 0.8731 - val_loss: 0.4222 - val_accuracy: 0.8995\n",
            "Epoch 77/100\n",
            "32/32 [==============================] - 2s 51ms/step - loss: 0.4549 - accuracy: 0.8597 - val_loss: 0.4292 - val_accuracy: 0.8950\n",
            "Epoch 78/100\n",
            "32/32 [==============================] - 2s 49ms/step - loss: 0.4749 - accuracy: 0.8593 - val_loss: 0.4159 - val_accuracy: 0.8904\n",
            "Epoch 79/100\n",
            "32/32 [==============================] - 2s 50ms/step - loss: 0.4480 - accuracy: 0.8811 - val_loss: 0.4490 - val_accuracy: 0.8584\n",
            "Epoch 80/100\n",
            "32/32 [==============================] - 2s 50ms/step - loss: 0.4702 - accuracy: 0.8665 - val_loss: 0.4149 - val_accuracy: 0.8858\n",
            "Epoch 81/100\n",
            "32/32 [==============================] - 2s 49ms/step - loss: 0.4298 - accuracy: 0.8904 - val_loss: 0.4336 - val_accuracy: 0.8813\n",
            "Epoch 82/100\n",
            "32/32 [==============================] - 2s 50ms/step - loss: 0.4617 - accuracy: 0.8701 - val_loss: 0.4203 - val_accuracy: 0.8904\n",
            "Epoch 83/100\n",
            "32/32 [==============================] - 2s 48ms/step - loss: 0.4443 - accuracy: 0.8722 - val_loss: 0.4133 - val_accuracy: 0.8858\n",
            "Epoch 84/100\n",
            "32/32 [==============================] - 2s 50ms/step - loss: 0.4581 - accuracy: 0.8871 - val_loss: 0.4364 - val_accuracy: 0.8676\n",
            "Epoch 85/100\n",
            "32/32 [==============================] - 2s 49ms/step - loss: 0.4405 - accuracy: 0.8970 - val_loss: 0.4160 - val_accuracy: 0.8904\n",
            "Epoch 86/100\n",
            "32/32 [==============================] - 2s 49ms/step - loss: 0.4112 - accuracy: 0.8947 - val_loss: 0.4281 - val_accuracy: 0.8995\n",
            "Epoch 87/100\n",
            "32/32 [==============================] - 2s 49ms/step - loss: 0.4624 - accuracy: 0.8591 - val_loss: 0.4150 - val_accuracy: 0.8904\n",
            "Epoch 88/100\n",
            "32/32 [==============================] - 2s 49ms/step - loss: 0.4478 - accuracy: 0.8694 - val_loss: 0.4232 - val_accuracy: 0.8950\n",
            "Epoch 89/100\n",
            "32/32 [==============================] - 2s 49ms/step - loss: 0.4253 - accuracy: 0.8900 - val_loss: 0.4227 - val_accuracy: 0.8904\n",
            "Epoch 90/100\n",
            "32/32 [==============================] - 2s 50ms/step - loss: 0.4259 - accuracy: 0.8890 - val_loss: 0.4763 - val_accuracy: 0.8493\n",
            "Epoch 91/100\n",
            "32/32 [==============================] - 2s 51ms/step - loss: 0.4552 - accuracy: 0.8746 - val_loss: 0.4469 - val_accuracy: 0.8584\n",
            "Epoch 92/100\n",
            "32/32 [==============================] - 2s 50ms/step - loss: 0.5021 - accuracy: 0.8553 - val_loss: 0.4219 - val_accuracy: 0.9041\n",
            "Epoch 93/100\n",
            "32/32 [==============================] - 2s 49ms/step - loss: 0.4474 - accuracy: 0.8871 - val_loss: 0.4203 - val_accuracy: 0.8950\n",
            "Epoch 94/100\n",
            "32/32 [==============================] - 2s 49ms/step - loss: 0.4412 - accuracy: 0.8752 - val_loss: 0.4188 - val_accuracy: 0.8904\n",
            "Epoch 95/100\n",
            "32/32 [==============================] - 2s 50ms/step - loss: 0.4650 - accuracy: 0.8605 - val_loss: 0.4511 - val_accuracy: 0.8584\n",
            "Epoch 96/100\n",
            "32/32 [==============================] - 2s 49ms/step - loss: 0.4424 - accuracy: 0.8772 - val_loss: 0.4179 - val_accuracy: 0.8858\n",
            "Epoch 97/100\n",
            "32/32 [==============================] - 2s 50ms/step - loss: 0.4390 - accuracy: 0.8828 - val_loss: 0.4130 - val_accuracy: 0.8904\n",
            "Epoch 98/100\n",
            "32/32 [==============================] - 2s 49ms/step - loss: 0.4310 - accuracy: 0.8793 - val_loss: 0.4224 - val_accuracy: 0.8904\n",
            "Epoch 99/100\n",
            "32/32 [==============================] - 2s 49ms/step - loss: 0.4623 - accuracy: 0.8611 - val_loss: 0.4165 - val_accuracy: 0.8904\n",
            "Epoch 100/100\n",
            "32/32 [==============================] - 2s 48ms/step - loss: 0.4250 - accuracy: 0.8874 - val_loss: 0.4231 - val_accuracy: 0.9041\n"
          ],
          "name": "stdout"
        }
      ]
    },
    {
      "cell_type": "code",
      "metadata": {
        "id": "MNcT8FE0eQOa",
        "colab": {
          "base_uri": "https://localhost:8080/",
          "height": 295
        },
        "outputId": "b43ae083-d95a-4ada-eeac-91cd9a60e402"
      },
      "source": [
        "plt.plot(hist_3.history['loss'])\n",
        "plt.plot(hist_3.history['val_loss'])\n",
        "plt.title('Model loss')\n",
        "plt.ylabel('Loss')\n",
        "plt.xlabel('Epoch')\n",
        "plt.legend(['Train', 'Val'], loc='upper right')\n",
        "plt.ylim(top=1.2, bottom=0)\n",
        "plt.show()"
      ],
      "execution_count": 34,
      "outputs": [
        {
          "output_type": "display_data",
          "data": {
            "image/png": "[encoded data removed]",
            "text/plain": [
              "<Figure size 432x288 with 1 Axes>"
            ]
          },
          "metadata": {
            "tags": [],
            "needs_background": "light"
          }
        }
      ]
    },
    {
      "cell_type": "code",
      "metadata": {
        "id": "W6VxOPGBeTKA",
        "colab": {
          "base_uri": "https://localhost:8080/",
          "height": 295
        },
        "outputId": "5b0e5703-a2ee-4559-85e4-c65c9649c841"
      },
      "source": [
        "plt.plot(hist_3.history['accuracy'])\n",
        "plt.plot(hist_3.history['val_accuracy'])\n",
        "plt.title('Model accuracy')\n",
        "plt.ylabel('Accuracy')\n",
        "plt.xlabel('Epoch')\n",
        "plt.legend(['Train', 'Val'], loc='lower right')\n",
        "plt.show()"
      ],
      "execution_count": 53,
      "outputs": [
        {
          "output_type": "display_data",
          "data": {
            "image/png": "[encoded data removed]",
            "text/plain": [
              "<Figure size 432x288 with 1 Axes>"
            ]
          },
          "metadata": {
            "tags": [],
            "needs_background": "light"
          }
        }
      ]
    }
  ]
}